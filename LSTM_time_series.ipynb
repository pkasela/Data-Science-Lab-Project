{
 "cells": [
  {
   "cell_type": "code",
   "execution_count": 1,
   "metadata": {},
   "outputs": [],
   "source": [
    "import pandas as pd\n",
    "import numpy as np\n",
    "import matplotlib.pyplot as plt"
   ]
  },
  {
   "cell_type": "code",
   "execution_count": 2,
   "metadata": {},
   "outputs": [
    {
     "name": "stdout",
     "output_type": "stream",
     "text": [
      "                     taxi_id  district\n",
      "datetime                              \n",
      "2008-02-02 15:36:08        1  Chaoyang\n",
      "2008-02-02 15:46:08        1  Chaoyang\n",
      "2008-02-02 15:46:08        1  Chaoyang\n",
      "2008-02-02 15:56:08        1  Chaoyang\n",
      "2008-02-02 16:06:08        1  Chaoyang\n",
      "CPU times: user 1min 27s, sys: 2.5 s, total: 1min 30s\n",
      "Wall time: 1min 30s\n"
     ]
    }
   ],
   "source": [
    "%%time\n",
    "df_begin = pd.read_csv(\"total_district.txt\",\n",
    "                      names=['taxi_id','date_time','long','lat','district'])\n",
    "df_begin['datetime'] = pd.to_datetime(df_begin['date_time'],format = '%Y-%m-%d %X')\n",
    "df_begin = df_begin.set_index('datetime')\n",
    "df_begin.drop(['long','lat','date_time'], axis = 1, inplace = True)\n",
    "print(df_begin.head())"
   ]
  },
  {
   "cell_type": "code",
   "execution_count": 3,
   "metadata": {},
   "outputs": [
    {
     "name": "stdout",
     "output_type": "stream",
     "text": [
      "CPU times: user 37.3 s, sys: 1.11 s, total: 38.4 s\n",
      "Wall time: 38.4 s\n"
     ]
    }
   ],
   "source": [
    "%%time\n",
    "#Prevision for every 10 minutes\n",
    "df = df_begin.groupby([pd.Grouper(level='datetime', freq='10Min'),\n",
    "                      \"district\"])[['taxi_id']].count().reset_index()"
   ]
  },
  {
   "cell_type": "code",
   "execution_count": 4,
   "metadata": {},
   "outputs": [
    {
     "data": {
      "text/html": [
       "<div>\n",
       "<style scoped>\n",
       "    .dataframe tbody tr th:only-of-type {\n",
       "        vertical-align: middle;\n",
       "    }\n",
       "\n",
       "    .dataframe tbody tr th {\n",
       "        vertical-align: top;\n",
       "    }\n",
       "\n",
       "    .dataframe thead th {\n",
       "        text-align: right;\n",
       "    }\n",
       "</style>\n",
       "<table border=\"1\" class=\"dataframe\">\n",
       "  <thead>\n",
       "    <tr style=\"text-align: right;\">\n",
       "      <th></th>\n",
       "      <th>datetime</th>\n",
       "      <th>district</th>\n",
       "      <th>taxi_id</th>\n",
       "    </tr>\n",
       "  </thead>\n",
       "  <tbody>\n",
       "    <tr>\n",
       "      <th>0</th>\n",
       "      <td>2008-02-02 13:30:00</td>\n",
       "      <td>Changping</td>\n",
       "      <td>72</td>\n",
       "    </tr>\n",
       "    <tr>\n",
       "      <th>1</th>\n",
       "      <td>2008-02-02 13:30:00</td>\n",
       "      <td>Chaoyang</td>\n",
       "      <td>4335</td>\n",
       "    </tr>\n",
       "    <tr>\n",
       "      <th>2</th>\n",
       "      <td>2008-02-02 13:30:00</td>\n",
       "      <td>Chongwen</td>\n",
       "      <td>2624</td>\n",
       "    </tr>\n",
       "    <tr>\n",
       "      <th>3</th>\n",
       "      <td>2008-02-02 13:30:00</td>\n",
       "      <td>Daxing</td>\n",
       "      <td>177</td>\n",
       "    </tr>\n",
       "    <tr>\n",
       "      <th>4</th>\n",
       "      <td>2008-02-02 13:30:00</td>\n",
       "      <td>Dongcheng</td>\n",
       "      <td>2808</td>\n",
       "    </tr>\n",
       "  </tbody>\n",
       "</table>\n",
       "</div>"
      ],
      "text/plain": [
       "             datetime   district  taxi_id\n",
       "0 2008-02-02 13:30:00  Changping       72\n",
       "1 2008-02-02 13:30:00   Chaoyang     4335\n",
       "2 2008-02-02 13:30:00   Chongwen     2624\n",
       "3 2008-02-02 13:30:00     Daxing      177\n",
       "4 2008-02-02 13:30:00  Dongcheng     2808"
      ]
     },
     "execution_count": 4,
     "metadata": {},
     "output_type": "execute_result"
    }
   ],
   "source": [
    "df.head()"
   ]
  },
  {
   "cell_type": "code",
   "execution_count": 5,
   "metadata": {},
   "outputs": [],
   "source": [
    "df.datetime = pd.to_datetime(df.datetime,format = '%Y-%m-%d %X')\n",
    "df.columns=['datetime','district','taxi_count']"
   ]
  },
  {
   "cell_type": "code",
   "execution_count": 6,
   "metadata": {},
   "outputs": [],
   "source": [
    "import requests\n",
    "from bs4 import BeautifulSoup\n",
    "from tabulate import tabulate"
   ]
  },
  {
   "cell_type": "code",
   "execution_count": 7,
   "metadata": {},
   "outputs": [],
   "source": [
    "res = requests.get(\"https://www.sunrise-and-sunset.com/en/sun/china/beijing/2008/february/2\")\n",
    "soup = BeautifulSoup(res.content,'lxml')\n",
    "all_tables=soup.find_all(\"table\")"
   ]
  },
  {
   "cell_type": "code",
   "execution_count": 8,
   "metadata": {},
   "outputs": [],
   "source": [
    "df_sunrise = pd.read_html(str(all_tables[1]))[0][1:8].reset_index()"
   ]
  },
  {
   "cell_type": "code",
   "execution_count": 9,
   "metadata": {},
   "outputs": [
    {
     "name": "stderr",
     "output_type": "stream",
     "text": [
      "/home/pranav/.local/lib/python3.5/site-packages/pandas/core/generic.py:3812: PerformanceWarning: dropping on a non-lexsorted multi-index without a level parameter may impact performance.\n",
      "  new_axis = axis.drop(labels, errors=errors)\n"
     ]
    }
   ],
   "source": [
    "df_sunrise.drop('index',axis=1,inplace=True)"
   ]
  },
  {
   "cell_type": "code",
   "execution_count": 10,
   "metadata": {},
   "outputs": [],
   "source": [
    "df_sunrise.columns=[\"Day\",\"Sunrise\",\"Sunset\",\"Day Lenght\"]"
   ]
  },
  {
   "cell_type": "code",
   "execution_count": 11,
   "metadata": {},
   "outputs": [
    {
     "data": {
      "text/html": [
       "<div>\n",
       "<style scoped>\n",
       "    .dataframe tbody tr th:only-of-type {\n",
       "        vertical-align: middle;\n",
       "    }\n",
       "\n",
       "    .dataframe tbody tr th {\n",
       "        vertical-align: top;\n",
       "    }\n",
       "\n",
       "    .dataframe thead th {\n",
       "        text-align: right;\n",
       "    }\n",
       "</style>\n",
       "<table border=\"1\" class=\"dataframe\">\n",
       "  <thead>\n",
       "    <tr style=\"text-align: right;\">\n",
       "      <th></th>\n",
       "      <th>Day</th>\n",
       "      <th>Sunrise</th>\n",
       "      <th>Sunset</th>\n",
       "      <th>Day Lenght</th>\n",
       "    </tr>\n",
       "  </thead>\n",
       "  <tbody>\n",
       "    <tr>\n",
       "      <th>0</th>\n",
       "      <td>2 February 2008, Saturday</td>\n",
       "      <td>07:23</td>\n",
       "      <td>17:32</td>\n",
       "      <td>10:09</td>\n",
       "    </tr>\n",
       "    <tr>\n",
       "      <th>1</th>\n",
       "      <td>3 February 2008, Sunday</td>\n",
       "      <td>07:22</td>\n",
       "      <td>17:34</td>\n",
       "      <td>10:11</td>\n",
       "    </tr>\n",
       "    <tr>\n",
       "      <th>2</th>\n",
       "      <td>4 February 2008, Monday</td>\n",
       "      <td>07:21</td>\n",
       "      <td>17:35</td>\n",
       "      <td>10:13</td>\n",
       "    </tr>\n",
       "    <tr>\n",
       "      <th>3</th>\n",
       "      <td>5 February 2008, Tuesday</td>\n",
       "      <td>07:20</td>\n",
       "      <td>17:36</td>\n",
       "      <td>10:15</td>\n",
       "    </tr>\n",
       "    <tr>\n",
       "      <th>4</th>\n",
       "      <td>6 February 2008, Wednesday</td>\n",
       "      <td>07:19</td>\n",
       "      <td>17:37</td>\n",
       "      <td>10:17</td>\n",
       "    </tr>\n",
       "    <tr>\n",
       "      <th>5</th>\n",
       "      <td>7 February 2008, Thursday</td>\n",
       "      <td>07:18</td>\n",
       "      <td>17:38</td>\n",
       "      <td>10:20</td>\n",
       "    </tr>\n",
       "    <tr>\n",
       "      <th>6</th>\n",
       "      <td>8 February 2008, Friday</td>\n",
       "      <td>07:17</td>\n",
       "      <td>17:40</td>\n",
       "      <td>10:22</td>\n",
       "    </tr>\n",
       "  </tbody>\n",
       "</table>\n",
       "</div>"
      ],
      "text/plain": [
       "                          Day Sunrise Sunset Day Lenght\n",
       "0   2 February 2008, Saturday   07:23  17:32      10:09\n",
       "1     3 February 2008, Sunday   07:22  17:34      10:11\n",
       "2     4 February 2008, Monday   07:21  17:35      10:13\n",
       "3    5 February 2008, Tuesday   07:20  17:36      10:15\n",
       "4  6 February 2008, Wednesday   07:19  17:37      10:17\n",
       "5   7 February 2008, Thursday   07:18  17:38      10:20\n",
       "6     8 February 2008, Friday   07:17  17:40      10:22"
      ]
     },
     "execution_count": 11,
     "metadata": {},
     "output_type": "execute_result"
    }
   ],
   "source": [
    "df_sunrise"
   ]
  },
  {
   "cell_type": "code",
   "execution_count": 12,
   "metadata": {},
   "outputs": [],
   "source": [
    "df_sunrise = pd.concat([df_sunrise,pd.DataFrame([day.split(',') for day in df_sunrise.Day])],\n",
    "                        axis=1,ignore_index=True)\n",
    "df_sunrise.columns=[\"Day\",\"Sunrise\",\"Sunset\",\"Day Length\",\"Date\",\"WeekDay\"]\n",
    "df_sunrise.Date = pd.to_datetime(df_sunrise.Date)"
   ]
  },
  {
   "cell_type": "code",
   "execution_count": 13,
   "metadata": {},
   "outputs": [],
   "source": [
    "df_sunrise.Date = pd.to_datetime(df_sunrise.Date)"
   ]
  },
  {
   "cell_type": "code",
   "execution_count": 14,
   "metadata": {},
   "outputs": [
    {
     "data": {
      "text/html": [
       "<div>\n",
       "<style scoped>\n",
       "    .dataframe tbody tr th:only-of-type {\n",
       "        vertical-align: middle;\n",
       "    }\n",
       "\n",
       "    .dataframe tbody tr th {\n",
       "        vertical-align: top;\n",
       "    }\n",
       "\n",
       "    .dataframe thead th {\n",
       "        text-align: right;\n",
       "    }\n",
       "</style>\n",
       "<table border=\"1\" class=\"dataframe\">\n",
       "  <thead>\n",
       "    <tr style=\"text-align: right;\">\n",
       "      <th></th>\n",
       "      <th>Day</th>\n",
       "      <th>Sunrise</th>\n",
       "      <th>Sunset</th>\n",
       "      <th>Day Length</th>\n",
       "      <th>Date</th>\n",
       "      <th>WeekDay</th>\n",
       "    </tr>\n",
       "  </thead>\n",
       "  <tbody>\n",
       "    <tr>\n",
       "      <th>0</th>\n",
       "      <td>2 February 2008, Saturday</td>\n",
       "      <td>07:23</td>\n",
       "      <td>17:32</td>\n",
       "      <td>10:09</td>\n",
       "      <td>2008-02-02</td>\n",
       "      <td>Saturday</td>\n",
       "    </tr>\n",
       "    <tr>\n",
       "      <th>1</th>\n",
       "      <td>3 February 2008, Sunday</td>\n",
       "      <td>07:22</td>\n",
       "      <td>17:34</td>\n",
       "      <td>10:11</td>\n",
       "      <td>2008-02-03</td>\n",
       "      <td>Sunday</td>\n",
       "    </tr>\n",
       "    <tr>\n",
       "      <th>2</th>\n",
       "      <td>4 February 2008, Monday</td>\n",
       "      <td>07:21</td>\n",
       "      <td>17:35</td>\n",
       "      <td>10:13</td>\n",
       "      <td>2008-02-04</td>\n",
       "      <td>Monday</td>\n",
       "    </tr>\n",
       "    <tr>\n",
       "      <th>3</th>\n",
       "      <td>5 February 2008, Tuesday</td>\n",
       "      <td>07:20</td>\n",
       "      <td>17:36</td>\n",
       "      <td>10:15</td>\n",
       "      <td>2008-02-05</td>\n",
       "      <td>Tuesday</td>\n",
       "    </tr>\n",
       "    <tr>\n",
       "      <th>4</th>\n",
       "      <td>6 February 2008, Wednesday</td>\n",
       "      <td>07:19</td>\n",
       "      <td>17:37</td>\n",
       "      <td>10:17</td>\n",
       "      <td>2008-02-06</td>\n",
       "      <td>Wednesday</td>\n",
       "    </tr>\n",
       "    <tr>\n",
       "      <th>5</th>\n",
       "      <td>7 February 2008, Thursday</td>\n",
       "      <td>07:18</td>\n",
       "      <td>17:38</td>\n",
       "      <td>10:20</td>\n",
       "      <td>2008-02-07</td>\n",
       "      <td>Thursday</td>\n",
       "    </tr>\n",
       "    <tr>\n",
       "      <th>6</th>\n",
       "      <td>8 February 2008, Friday</td>\n",
       "      <td>07:17</td>\n",
       "      <td>17:40</td>\n",
       "      <td>10:22</td>\n",
       "      <td>2008-02-08</td>\n",
       "      <td>Friday</td>\n",
       "    </tr>\n",
       "  </tbody>\n",
       "</table>\n",
       "</div>"
      ],
      "text/plain": [
       "                          Day Sunrise Sunset Day Length       Date     WeekDay\n",
       "0   2 February 2008, Saturday   07:23  17:32      10:09 2008-02-02    Saturday\n",
       "1     3 February 2008, Sunday   07:22  17:34      10:11 2008-02-03      Sunday\n",
       "2     4 February 2008, Monday   07:21  17:35      10:13 2008-02-04      Monday\n",
       "3    5 February 2008, Tuesday   07:20  17:36      10:15 2008-02-05     Tuesday\n",
       "4  6 February 2008, Wednesday   07:19  17:37      10:17 2008-02-06   Wednesday\n",
       "5   7 February 2008, Thursday   07:18  17:38      10:20 2008-02-07    Thursday\n",
       "6     8 February 2008, Friday   07:17  17:40      10:22 2008-02-08      Friday"
      ]
     },
     "execution_count": 14,
     "metadata": {},
     "output_type": "execute_result"
    }
   ],
   "source": [
    "df_sunrise"
   ]
  },
  {
   "cell_type": "code",
   "execution_count": 17,
   "metadata": {},
   "outputs": [],
   "source": [
    "#Just save it in case the site goes down we have a backup\n",
    "#df_sunrise.to_csv(\"sunrise_timing_beijing.csv\",index=None)"
   ]
  },
  {
   "cell_type": "code",
   "execution_count": 15,
   "metadata": {},
   "outputs": [],
   "source": [
    "def is_sun_up(data,sunrise_table):\n",
    "    detail  = sunrise_table[data.date()==sunrise_table.Date.dt.date].reset_index()\n",
    "    sunrise = pd.to_datetime(detail['Date'].dt.date.apply(str)+\" \"+detail['Sunrise'])\n",
    "    sunset  = pd.to_datetime(detail['Date'].dt.date.apply(str)+\" \"+detail['Sunset'])\n",
    "    if ((sunrise < data) & (data < sunset))[0]:\n",
    "        return 1\n",
    "    else:\n",
    "        return 0"
   ]
  },
  {
   "cell_type": "code",
   "execution_count": 16,
   "metadata": {},
   "outputs": [],
   "source": [
    "def day_period(time):\n",
    "    hour = time.hour\n",
    "    if(0<=hour<=5 or hour>=23):\n",
    "        return \"Night\"\n",
    "    if(6<=hour<=12):\n",
    "        return \"Morning\"\n",
    "    if(12<hour<=18):\n",
    "        return \"Afternoon\"\n",
    "    if(18<hour<23):\n",
    "        return \"Evening\"\n",
    "    \n",
    "def is_time_to_eat(time):\n",
    "    hour = time.hour\n",
    "    if(6<=hour<=9 or 12<=hour<=14 or 18<=hour<=21):\n",
    "        return 1 #yes\n",
    "    else:\n",
    "        return 0 #no"
   ]
  },
  {
   "cell_type": "code",
   "execution_count": 20,
   "metadata": {},
   "outputs": [
    {
     "name": "stdout",
     "output_type": "stream",
     "text": [
      "CPU times: user 1min 52s, sys: 52 ms, total: 1min 52s\n",
      "Wall time: 1min 52s\n"
     ]
    }
   ],
   "source": [
    "%%time\n",
    "#df[\"period\"] = df.datetime.apply(day_period)\n",
    "#I find more interesting this way, atleast there is some data behind it to\n",
    "#justify, defining the Morning, Evening like we did before cannot be easily\n",
    "#justified.\n",
    "df[\"is_sun_up\"]  = df.datetime.apply(lambda x: is_sun_up(x,df_sunrise)) \n",
    "df[\"time_to_eat\"] = df.datetime.apply(is_time_to_eat)"
   ]
  },
  {
   "cell_type": "code",
   "execution_count": 21,
   "metadata": {},
   "outputs": [
    {
     "data": {
      "text/html": [
       "<div>\n",
       "<style scoped>\n",
       "    .dataframe tbody tr th:only-of-type {\n",
       "        vertical-align: middle;\n",
       "    }\n",
       "\n",
       "    .dataframe tbody tr th {\n",
       "        vertical-align: top;\n",
       "    }\n",
       "\n",
       "    .dataframe thead th {\n",
       "        text-align: right;\n",
       "    }\n",
       "</style>\n",
       "<table border=\"1\" class=\"dataframe\">\n",
       "  <thead>\n",
       "    <tr style=\"text-align: right;\">\n",
       "      <th></th>\n",
       "      <th>datetime</th>\n",
       "      <th>district</th>\n",
       "      <th>taxi_count</th>\n",
       "      <th>is_sun_up</th>\n",
       "      <th>time_to_eat</th>\n",
       "    </tr>\n",
       "  </thead>\n",
       "  <tbody>\n",
       "    <tr>\n",
       "      <th>0</th>\n",
       "      <td>2008-02-02 13:30:00</td>\n",
       "      <td>Changping</td>\n",
       "      <td>72</td>\n",
       "      <td>1</td>\n",
       "      <td>1</td>\n",
       "    </tr>\n",
       "    <tr>\n",
       "      <th>1</th>\n",
       "      <td>2008-02-02 13:30:00</td>\n",
       "      <td>Chaoyang</td>\n",
       "      <td>4335</td>\n",
       "      <td>1</td>\n",
       "      <td>1</td>\n",
       "    </tr>\n",
       "    <tr>\n",
       "      <th>2</th>\n",
       "      <td>2008-02-02 13:30:00</td>\n",
       "      <td>Chongwen</td>\n",
       "      <td>2624</td>\n",
       "      <td>1</td>\n",
       "      <td>1</td>\n",
       "    </tr>\n",
       "    <tr>\n",
       "      <th>3</th>\n",
       "      <td>2008-02-02 13:30:00</td>\n",
       "      <td>Daxing</td>\n",
       "      <td>177</td>\n",
       "      <td>1</td>\n",
       "      <td>1</td>\n",
       "    </tr>\n",
       "    <tr>\n",
       "      <th>4</th>\n",
       "      <td>2008-02-02 13:30:00</td>\n",
       "      <td>Dongcheng</td>\n",
       "      <td>2808</td>\n",
       "      <td>1</td>\n",
       "      <td>1</td>\n",
       "    </tr>\n",
       "    <tr>\n",
       "      <th>5</th>\n",
       "      <td>2008-02-02 13:30:00</td>\n",
       "      <td>Fangshan</td>\n",
       "      <td>82</td>\n",
       "      <td>1</td>\n",
       "      <td>1</td>\n",
       "    </tr>\n",
       "    <tr>\n",
       "      <th>6</th>\n",
       "      <td>2008-02-02 13:30:00</td>\n",
       "      <td>Fengtai</td>\n",
       "      <td>2035</td>\n",
       "      <td>1</td>\n",
       "      <td>1</td>\n",
       "    </tr>\n",
       "    <tr>\n",
       "      <th>7</th>\n",
       "      <td>2008-02-02 13:30:00</td>\n",
       "      <td>Haidian</td>\n",
       "      <td>2209</td>\n",
       "      <td>1</td>\n",
       "      <td>1</td>\n",
       "    </tr>\n",
       "    <tr>\n",
       "      <th>8</th>\n",
       "      <td>2008-02-02 13:30:00</td>\n",
       "      <td>Huairou</td>\n",
       "      <td>14</td>\n",
       "      <td>1</td>\n",
       "      <td>1</td>\n",
       "    </tr>\n",
       "    <tr>\n",
       "      <th>9</th>\n",
       "      <td>2008-02-02 13:30:00</td>\n",
       "      <td>Mentougou</td>\n",
       "      <td>21</td>\n",
       "      <td>1</td>\n",
       "      <td>1</td>\n",
       "    </tr>\n",
       "    <tr>\n",
       "      <th>10</th>\n",
       "      <td>2008-02-02 13:30:00</td>\n",
       "      <td>Miyun</td>\n",
       "      <td>20</td>\n",
       "      <td>1</td>\n",
       "      <td>1</td>\n",
       "    </tr>\n",
       "    <tr>\n",
       "      <th>11</th>\n",
       "      <td>2008-02-02 13:30:00</td>\n",
       "      <td>Pinggu</td>\n",
       "      <td>70</td>\n",
       "      <td>1</td>\n",
       "      <td>1</td>\n",
       "    </tr>\n",
       "    <tr>\n",
       "      <th>12</th>\n",
       "      <td>2008-02-02 13:30:00</td>\n",
       "      <td>Shijingshan</td>\n",
       "      <td>135</td>\n",
       "      <td>1</td>\n",
       "      <td>1</td>\n",
       "    </tr>\n",
       "    <tr>\n",
       "      <th>13</th>\n",
       "      <td>2008-02-02 13:30:00</td>\n",
       "      <td>Shunyi</td>\n",
       "      <td>792</td>\n",
       "      <td>1</td>\n",
       "      <td>1</td>\n",
       "    </tr>\n",
       "    <tr>\n",
       "      <th>14</th>\n",
       "      <td>2008-02-02 13:30:00</td>\n",
       "      <td>Tongzhou</td>\n",
       "      <td>243</td>\n",
       "      <td>1</td>\n",
       "      <td>1</td>\n",
       "    </tr>\n",
       "    <tr>\n",
       "      <th>15</th>\n",
       "      <td>2008-02-02 13:30:00</td>\n",
       "      <td>Xicheng</td>\n",
       "      <td>467</td>\n",
       "      <td>1</td>\n",
       "      <td>1</td>\n",
       "    </tr>\n",
       "    <tr>\n",
       "      <th>16</th>\n",
       "      <td>2008-02-02 13:30:00</td>\n",
       "      <td>Xuanwu</td>\n",
       "      <td>3599</td>\n",
       "      <td>1</td>\n",
       "      <td>1</td>\n",
       "    </tr>\n",
       "    <tr>\n",
       "      <th>17</th>\n",
       "      <td>2008-02-02 13:30:00</td>\n",
       "      <td>Yanqing</td>\n",
       "      <td>18</td>\n",
       "      <td>1</td>\n",
       "      <td>1</td>\n",
       "    </tr>\n",
       "    <tr>\n",
       "      <th>18</th>\n",
       "      <td>2008-02-02 13:40:00</td>\n",
       "      <td>Changping</td>\n",
       "      <td>153</td>\n",
       "      <td>1</td>\n",
       "      <td>1</td>\n",
       "    </tr>\n",
       "    <tr>\n",
       "      <th>19</th>\n",
       "      <td>2008-02-02 13:40:00</td>\n",
       "      <td>Chaoyang</td>\n",
       "      <td>6237</td>\n",
       "      <td>1</td>\n",
       "      <td>1</td>\n",
       "    </tr>\n",
       "  </tbody>\n",
       "</table>\n",
       "</div>"
      ],
      "text/plain": [
       "              datetime     district  taxi_count  is_sun_up  time_to_eat\n",
       "0  2008-02-02 13:30:00    Changping          72          1            1\n",
       "1  2008-02-02 13:30:00     Chaoyang        4335          1            1\n",
       "2  2008-02-02 13:30:00     Chongwen        2624          1            1\n",
       "3  2008-02-02 13:30:00       Daxing         177          1            1\n",
       "4  2008-02-02 13:30:00    Dongcheng        2808          1            1\n",
       "5  2008-02-02 13:30:00     Fangshan          82          1            1\n",
       "6  2008-02-02 13:30:00      Fengtai        2035          1            1\n",
       "7  2008-02-02 13:30:00      Haidian        2209          1            1\n",
       "8  2008-02-02 13:30:00      Huairou          14          1            1\n",
       "9  2008-02-02 13:30:00    Mentougou          21          1            1\n",
       "10 2008-02-02 13:30:00        Miyun          20          1            1\n",
       "11 2008-02-02 13:30:00       Pinggu          70          1            1\n",
       "12 2008-02-02 13:30:00  Shijingshan         135          1            1\n",
       "13 2008-02-02 13:30:00       Shunyi         792          1            1\n",
       "14 2008-02-02 13:30:00     Tongzhou         243          1            1\n",
       "15 2008-02-02 13:30:00      Xicheng         467          1            1\n",
       "16 2008-02-02 13:30:00       Xuanwu        3599          1            1\n",
       "17 2008-02-02 13:30:00      Yanqing          18          1            1\n",
       "18 2008-02-02 13:40:00    Changping         153          1            1\n",
       "19 2008-02-02 13:40:00     Chaoyang        6237          1            1"
      ]
     },
     "execution_count": 21,
     "metadata": {},
     "output_type": "execute_result"
    }
   ],
   "source": [
    "#In the LSTM I don't actually need it the extra variable,\n",
    "#just keeping them in case you guys need it\n",
    "df.head(20)"
   ]
  },
  {
   "cell_type": "code",
   "execution_count": 17,
   "metadata": {},
   "outputs": [],
   "source": [
    "time_series = df.groupby('datetime')['taxi_count'].sum()"
   ]
  },
  {
   "cell_type": "code",
   "execution_count": 18,
   "metadata": {},
   "outputs": [],
   "source": [
    "time_series = pd.DataFrame(time_series).reset_index()"
   ]
  },
  {
   "cell_type": "code",
   "execution_count": 19,
   "metadata": {},
   "outputs": [
    {
     "name": "stdout",
     "output_type": "stream",
     "text": [
      "CPU times: user 5.81 s, sys: 4 ms, total: 5.81 s\n",
      "Wall time: 5.81 s\n"
     ]
    }
   ],
   "source": [
    "%%time\n",
    "time_series[\"is_sun_up\"]  = time_series.datetime.apply(lambda x: is_sun_up(x,df_sunrise)) \n",
    "time_series[\"time_to_eat\"] = time_series.datetime.apply(is_time_to_eat)"
   ]
  },
  {
   "cell_type": "code",
   "execution_count": 20,
   "metadata": {},
   "outputs": [],
   "source": [
    "time_series.set_index('datetime',inplace=True)"
   ]
  },
  {
   "cell_type": "code",
   "execution_count": 21,
   "metadata": {},
   "outputs": [
    {
     "data": {
      "text/html": [
       "<div>\n",
       "<style scoped>\n",
       "    .dataframe tbody tr th:only-of-type {\n",
       "        vertical-align: middle;\n",
       "    }\n",
       "\n",
       "    .dataframe tbody tr th {\n",
       "        vertical-align: top;\n",
       "    }\n",
       "\n",
       "    .dataframe thead th {\n",
       "        text-align: right;\n",
       "    }\n",
       "</style>\n",
       "<table border=\"1\" class=\"dataframe\">\n",
       "  <thead>\n",
       "    <tr style=\"text-align: right;\">\n",
       "      <th></th>\n",
       "      <th>taxi_count</th>\n",
       "      <th>is_sun_up</th>\n",
       "      <th>time_to_eat</th>\n",
       "    </tr>\n",
       "    <tr>\n",
       "      <th>datetime</th>\n",
       "      <th></th>\n",
       "      <th></th>\n",
       "      <th></th>\n",
       "    </tr>\n",
       "  </thead>\n",
       "  <tbody>\n",
       "    <tr>\n",
       "      <th>2008-02-02 13:30:00</th>\n",
       "      <td>19721</td>\n",
       "      <td>1</td>\n",
       "      <td>1</td>\n",
       "    </tr>\n",
       "    <tr>\n",
       "      <th>2008-02-02 13:40:00</th>\n",
       "      <td>28444</td>\n",
       "      <td>1</td>\n",
       "      <td>1</td>\n",
       "    </tr>\n",
       "    <tr>\n",
       "      <th>2008-02-02 13:50:00</th>\n",
       "      <td>28627</td>\n",
       "      <td>1</td>\n",
       "      <td>1</td>\n",
       "    </tr>\n",
       "    <tr>\n",
       "      <th>2008-02-02 14:00:00</th>\n",
       "      <td>25055</td>\n",
       "      <td>1</td>\n",
       "      <td>1</td>\n",
       "    </tr>\n",
       "    <tr>\n",
       "      <th>2008-02-02 14:10:00</th>\n",
       "      <td>24114</td>\n",
       "      <td>1</td>\n",
       "      <td>1</td>\n",
       "    </tr>\n",
       "  </tbody>\n",
       "</table>\n",
       "</div>"
      ],
      "text/plain": [
       "                     taxi_count  is_sun_up  time_to_eat\n",
       "datetime                                               \n",
       "2008-02-02 13:30:00       19721          1            1\n",
       "2008-02-02 13:40:00       28444          1            1\n",
       "2008-02-02 13:50:00       28627          1            1\n",
       "2008-02-02 14:00:00       25055          1            1\n",
       "2008-02-02 14:10:00       24114          1            1"
      ]
     },
     "execution_count": 21,
     "metadata": {},
     "output_type": "execute_result"
    }
   ],
   "source": [
    "time_series.head()"
   ]
  },
  {
   "cell_type": "code",
   "execution_count": 22,
   "metadata": {},
   "outputs": [
    {
     "data": {
      "image/png": "[encoded data removed]",
      "text/plain": [
       "<Figure size 432x288 with 1 Axes>"
      ]
     },
     "metadata": {
      "needs_background": "light"
     },
     "output_type": "display_data"
    }
   ],
   "source": [
    "time_series.taxi_count.plot()\n",
    "plt.show()"
   ]
  },
  {
   "cell_type": "markdown",
   "metadata": {},
   "source": [
    "# Here is the LSTM"
   ]
  },
  {
   "cell_type": "code",
   "execution_count": 24,
   "metadata": {},
   "outputs": [],
   "source": [
    "time_series_simple = time_series.iloc[:,0:1].values"
   ]
  },
  {
   "cell_type": "code",
   "execution_count": 25,
   "metadata": {},
   "outputs": [],
   "source": [
    "train, test = time_series_simple[0:-150], time_series_simple[-150:]"
   ]
  },
  {
   "cell_type": "code",
   "execution_count": 26,
   "metadata": {},
   "outputs": [
    {
     "data": {
      "text/plain": [
       "(736, 1)"
      ]
     },
     "execution_count": 26,
     "metadata": {},
     "output_type": "execute_result"
    }
   ],
   "source": [
    "train.shape"
   ]
  },
  {
   "cell_type": "code",
   "execution_count": 27,
   "metadata": {},
   "outputs": [],
   "source": [
    "from sklearn.preprocessing import MinMaxScaler\n",
    "import tensorflow as tf"
   ]
  },
  {
   "cell_type": "code",
   "execution_count": 28,
   "metadata": {},
   "outputs": [],
   "source": [
    "scaler = MinMaxScaler(feature_range=(0,1))\n",
    "#They work better in this range (0,1)\n",
    "train_scaled = scaler.fit_transform(train) "
   ]
  },
  {
   "cell_type": "code",
   "execution_count": 29,
   "metadata": {
    "scrolled": true
   },
   "outputs": [
    {
     "data": {
      "text/plain": [
       "array([[0.94297546],\n",
       "       [0.94918706],\n",
       "       [0.82794203],\n",
       "       [0.79600149]])"
      ]
     },
     "execution_count": 29,
     "metadata": {},
     "output_type": "execute_result"
    }
   ],
   "source": [
    "train_scaled[1:5]"
   ]
  },
  {
   "cell_type": "code",
   "execution_count": 36,
   "metadata": {},
   "outputs": [],
   "source": [
    "old_record_number=80"
   ]
  },
  {
   "cell_type": "code",
   "execution_count": 37,
   "metadata": {},
   "outputs": [],
   "source": [
    "features_set = []  \n",
    "labels = []  \n",
    "#Use 60 records to predict to next one\n",
    "for i in range(old_record_number, len(train_scaled)):  \n",
    "    features_set.append(train_scaled[i-old_record_number:i, 0])\n",
    "    labels.append(train_scaled[i, 0])"
   ]
  },
  {
   "cell_type": "code",
   "execution_count": 38,
   "metadata": {},
   "outputs": [],
   "source": [
    "# We need them as np array\n",
    "features_set, labels = np.array(features_set), np.array(labels)  "
   ]
  },
  {
   "cell_type": "code",
   "execution_count": 39,
   "metadata": {},
   "outputs": [],
   "source": [
    "features_set = np.reshape(features_set, \n",
    "                          (features_set.shape[0], \n",
    "                           features_set.shape[1], \n",
    "                           1))  #Using only one feature"
   ]
  },
  {
   "cell_type": "code",
   "execution_count": 40,
   "metadata": {},
   "outputs": [
    {
     "data": {
      "text/plain": [
       "(656, 80, 1)"
      ]
     },
     "execution_count": 40,
     "metadata": {},
     "output_type": "execute_result"
    }
   ],
   "source": [
    "features_set.shape"
   ]
  },
  {
   "cell_type": "code",
   "execution_count": 41,
   "metadata": {},
   "outputs": [],
   "source": [
    "from keras.models import Sequential  \n",
    "from keras.layers import Dense  \n",
    "from keras.layers import LSTM  \n",
    "from keras.layers import Dropout "
   ]
  },
  {
   "cell_type": "code",
   "execution_count": 42,
   "metadata": {},
   "outputs": [],
   "source": [
    "model = Sequential()  \n",
    "model.add(LSTM(units=80, return_sequences=True, \n",
    "               input_shape=(features_set.shape[1], 1)))  \n",
    "model.add(Dropout(0.4))  #Can be changed later, used to avoid overfitting\n",
    "#Deep Learning\n",
    "model.add(LSTM(units=80, return_sequences=True))  \n",
    "model.add(Dropout(0.3))\n",
    "\n",
    "model.add(LSTM(units=80, return_sequences=True))  \n",
    "model.add(Dropout(0.2))\n",
    "\n",
    "model.add(LSTM(units=80))  \n",
    "model.add(Dropout(0.2))  \n",
    "\n",
    "#output\n",
    "model.add(Dense(units = 1))\n",
    "model.compile(optimizer = 'adam', loss = 'mean_squared_error')"
   ]
  },
  {
   "cell_type": "code",
   "execution_count": 43,
   "metadata": {
    "scrolled": true
   },
   "outputs": [
    {
     "name": "stderr",
     "output_type": "stream",
     "text": [
      "W0626 19:23:10.977392 139658964748032 deprecation.py:323] From /home/pranav/.local/lib/python3.5/site-packages/tensorflow/python/ops/math_grad.py:1250: add_dispatch_support.<locals>.wrapper (from tensorflow.python.ops.array_ops) is deprecated and will be removed in a future version.\n",
      "Instructions for updating:\n",
      "Use tf.where in 2.0, which has the same broadcast rule as np.where\n",
      "W0626 19:23:14.949918 139658964748032 deprecation_wrapper.py:119] From /home/pranav/.local/lib/python3.5/site-packages/keras/backend/tensorflow_backend.py:986: The name tf.assign_add is deprecated. Please use tf.compat.v1.assign_add instead.\n",
      "\n"
     ]
    },
    {
     "name": "stdout",
     "output_type": "stream",
     "text": [
      "Epoch 1/50\n",
      "656/656 [==============================] - 12s 18ms/step - loss: 0.1160\n",
      "Epoch 2/50\n",
      "656/656 [==============================] - 6s 10ms/step - loss: 0.0248\n",
      "Epoch 3/50\n",
      "656/656 [==============================] - 6s 9ms/step - loss: 0.0217\n",
      "Epoch 4/50\n",
      "656/656 [==============================] - 5s 8ms/step - loss: 0.0175\n",
      "Epoch 5/50\n",
      "656/656 [==============================] - 6s 8ms/step - loss: 0.0147\n",
      "Epoch 6/50\n",
      "656/656 [==============================] - 7s 10ms/step - loss: 0.0120\n",
      "Epoch 7/50\n",
      "656/656 [==============================] - 6s 9ms/step - loss: 0.0137\n",
      "Epoch 8/50\n",
      "656/656 [==============================] - 6s 9ms/step - loss: 0.0114\n",
      "Epoch 9/50\n",
      "656/656 [==============================] - 6s 9ms/step - loss: 0.0109\n",
      "Epoch 10/50\n",
      "656/656 [==============================] - 6s 9ms/step - loss: 0.0112\n",
      "Epoch 11/50\n",
      "656/656 [==============================] - 6s 9ms/step - loss: 0.0124\n",
      "Epoch 12/50\n",
      "656/656 [==============================] - 5s 8ms/step - loss: 0.0102\n",
      "Epoch 13/50\n",
      "656/656 [==============================] - 5s 8ms/step - loss: 0.0114\n",
      "Epoch 14/50\n",
      "656/656 [==============================] - 5s 8ms/step - loss: 0.0096\n",
      "Epoch 15/50\n",
      "656/656 [==============================] - 5s 8ms/step - loss: 0.0110\n",
      "Epoch 16/50\n",
      "656/656 [==============================] - 6s 9ms/step - loss: 0.0108\n",
      "Epoch 17/50\n",
      "656/656 [==============================] - 5s 8ms/step - loss: 0.0097\n",
      "Epoch 18/50\n",
      "656/656 [==============================] - 5s 8ms/step - loss: 0.0084\n",
      "Epoch 19/50\n",
      "656/656 [==============================] - 5s 8ms/step - loss: 0.0092\n",
      "Epoch 20/50\n",
      "656/656 [==============================] - 5s 8ms/step - loss: 0.0083\n",
      "Epoch 21/50\n",
      "656/656 [==============================] - 6s 9ms/step - loss: 0.0082\n",
      "Epoch 22/50\n",
      "656/656 [==============================] - 5s 8ms/step - loss: 0.0087\n",
      "Epoch 23/50\n",
      "656/656 [==============================] - 5s 8ms/step - loss: 0.0080\n",
      "Epoch 24/50\n",
      "656/656 [==============================] - 5s 8ms/step - loss: 0.0075\n",
      "Epoch 25/50\n",
      "656/656 [==============================] - 5s 8ms/step - loss: 0.0080\n",
      "Epoch 26/50\n",
      "656/656 [==============================] - 6s 9ms/step - loss: 0.0075\n",
      "Epoch 27/50\n",
      "656/656 [==============================] - 5s 8ms/step - loss: 0.0076\n",
      "Epoch 28/50\n",
      "656/656 [==============================] - 5s 8ms/step - loss: 0.0081\n",
      "Epoch 29/50\n",
      "656/656 [==============================] - 6s 9ms/step - loss: 0.0076\n",
      "Epoch 30/50\n",
      "656/656 [==============================] - 6s 9ms/step - loss: 0.0083\n",
      "Epoch 31/50\n",
      "656/656 [==============================] - 5s 8ms/step - loss: 0.0108\n",
      "Epoch 32/50\n",
      "656/656 [==============================] - 6s 9ms/step - loss: 0.0075\n",
      "Epoch 33/50\n",
      "656/656 [==============================] - 5s 8ms/step - loss: 0.0073\n",
      "Epoch 34/50\n",
      "656/656 [==============================] - 5s 8ms/step - loss: 0.0071\n",
      "Epoch 35/50\n",
      "656/656 [==============================] - 5s 8ms/step - loss: 0.0075\n",
      "Epoch 36/50\n",
      "656/656 [==============================] - 6s 9ms/step - loss: 0.0067\n",
      "Epoch 37/50\n",
      "656/656 [==============================] - 5s 8ms/step - loss: 0.0068\n",
      "Epoch 38/50\n",
      "656/656 [==============================] - 6s 9ms/step - loss: 0.0067\n",
      "Epoch 39/50\n",
      "656/656 [==============================] - 6s 9ms/step - loss: 0.0072\n",
      "Epoch 40/50\n",
      "656/656 [==============================] - 6s 8ms/step - loss: 0.0068\n",
      "Epoch 41/50\n",
      "656/656 [==============================] - 5s 8ms/step - loss: 0.0080\n",
      "Epoch 42/50\n",
      "656/656 [==============================] - 6s 9ms/step - loss: 0.0068\n",
      "Epoch 43/50\n",
      "656/656 [==============================] - 6s 9ms/step - loss: 0.0067\n",
      "Epoch 44/50\n",
      "656/656 [==============================] - 5s 8ms/step - loss: 0.0082\n",
      "Epoch 45/50\n",
      "656/656 [==============================] - 6s 8ms/step - loss: 0.0067\n",
      "Epoch 46/50\n",
      "656/656 [==============================] - 6s 9ms/step - loss: 0.0068\n",
      "Epoch 47/50\n",
      "656/656 [==============================] - 5s 8ms/step - loss: 0.0067\n",
      "Epoch 48/50\n",
      "656/656 [==============================] - 6s 9ms/step - loss: 0.0067\n",
      "Epoch 49/50\n",
      "656/656 [==============================] - 5s 8ms/step - loss: 0.0069\n",
      "Epoch 50/50\n",
      "656/656 [==============================] - 4s 6ms/step - loss: 0.0064\n",
      "CPU times: user 16min 59s, sys: 2min 31s, total: 19min 30s\n",
      "Wall time: 4min 48s\n"
     ]
    },
    {
     "data": {
      "text/plain": [
       "<keras.callbacks.History at 0x7f04876a2d68>"
      ]
     },
     "execution_count": 43,
     "metadata": {},
     "output_type": "execute_result"
    }
   ],
   "source": [
    "%%time\n",
    "model.fit(features_set,labels,epochs=50,batch_size=35)"
   ]
  },
  {
   "cell_type": "code",
   "execution_count": 44,
   "metadata": {
    "scrolled": true
   },
   "outputs": [
    {
     "data": {
      "text/plain": [
       "(150, 1)"
      ]
     },
     "execution_count": 44,
     "metadata": {},
     "output_type": "execute_result"
    }
   ],
   "source": [
    "test.shape"
   ]
  },
  {
   "cell_type": "code",
   "execution_count": 45,
   "metadata": {
    "scrolled": true
   },
   "outputs": [
    {
     "data": {
      "text/plain": [
       "(886, 1)"
      ]
     },
     "execution_count": 45,
     "metadata": {},
     "output_type": "execute_result"
    }
   ],
   "source": [
    "time_series_simple.shape"
   ]
  },
  {
   "cell_type": "code",
   "execution_count": 46,
   "metadata": {},
   "outputs": [],
   "source": [
    "total = time_series['taxi_count']"
   ]
  },
  {
   "cell_type": "code",
   "execution_count": 47,
   "metadata": {},
   "outputs": [],
   "source": [
    "test_inputs = total[len(total)-len(test)-old_record_number:].values"
   ]
  },
  {
   "cell_type": "code",
   "execution_count": 48,
   "metadata": {},
   "outputs": [],
   "source": [
    "test_inputs = test_inputs.reshape(-1,1)"
   ]
  },
  {
   "cell_type": "code",
   "execution_count": 49,
   "metadata": {},
   "outputs": [],
   "source": [
    "#test_inputs = test_inputs.reshape(-1,1)"
   ]
  },
  {
   "cell_type": "code",
   "execution_count": 50,
   "metadata": {},
   "outputs": [],
   "source": [
    "test_inputs = scaler.transform(test_inputs)"
   ]
  },
  {
   "cell_type": "code",
   "execution_count": 51,
   "metadata": {},
   "outputs": [],
   "source": [
    "test_features = []  \n",
    "for i in range(old_record_number, len(test_inputs)):  \n",
    "    test_features.append(test_inputs[i-old_record_number:i, 0])"
   ]
  },
  {
   "cell_type": "code",
   "execution_count": 52,
   "metadata": {},
   "outputs": [
    {
     "data": {
      "text/plain": [
       "150"
      ]
     },
     "execution_count": 52,
     "metadata": {},
     "output_type": "execute_result"
    }
   ],
   "source": [
    "len(test_features)"
   ]
  },
  {
   "cell_type": "code",
   "execution_count": 53,
   "metadata": {},
   "outputs": [],
   "source": [
    "test_features = np.array(test_features)"
   ]
  },
  {
   "cell_type": "code",
   "execution_count": 54,
   "metadata": {},
   "outputs": [],
   "source": [
    "test_features = np.reshape(test_features, \n",
    "                           (test_features.shape[0], \n",
    "                            test_features.shape[1], \n",
    "                            1))  "
   ]
  },
  {
   "cell_type": "code",
   "execution_count": 55,
   "metadata": {},
   "outputs": [],
   "source": [
    "predictions = model.predict(test_features)  "
   ]
  },
  {
   "cell_type": "code",
   "execution_count": 56,
   "metadata": {},
   "outputs": [],
   "source": [
    "predictions = scaler.inverse_transform(predictions)"
   ]
  },
  {
   "cell_type": "code",
   "execution_count": 57,
   "metadata": {},
   "outputs": [
    {
     "data": {
      "image/png": "[encoded data removed]",
      "text/plain": [
       "<Figure size 720x432 with 1 Axes>"
      ]
     },
     "metadata": {
      "needs_background": "light"
     },
     "output_type": "display_data"
    }
   ],
   "source": [
    "plt.figure(figsize=(10,6))  \n",
    "plt.plot(test, color='blue', label='Actual')  \n",
    "plt.plot(predictions , color='red', label='Predicted')  \n",
    "plt.title('Number no Taxi Prediction')  \n",
    "plt.xlabel('Date')  \n",
    "plt.ylabel('Number of Taxis')  \n",
    "plt.legend()  \n",
    "plt.show()  "
   ]
  },
  {
   "cell_type": "code",
   "execution_count": null,
   "metadata": {},
   "outputs": [],
   "source": []
  }
 ],
 "metadata": {
  "kernelspec": {
   "display_name": "Python 3",
   "language": "python",
   "name": "python3"
  },
  "language_info": {
   "codemirror_mode": {
    "name": "ipython",
    "version": 3
   },
   "file_extension": ".py",
   "mimetype": "text/x-python",
   "name": "python",
   "nbconvert_exporter": "python",
   "pygments_lexer": "ipython3",
   "version": "3.5.3"
  }
 },
 "nbformat": 4,
 "nbformat_minor": 2
}
