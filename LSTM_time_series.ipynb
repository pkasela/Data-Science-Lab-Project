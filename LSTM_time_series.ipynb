{
 "cells": [
  {
   "cell_type": "code",
   "execution_count": 9,
   "metadata": {},
   "outputs": [],
   "source": [
    "import pandas as pd\n",
    "import numpy as np\n",
    "import matplotlib.pyplot as plt"
   ]
  },
  {
   "cell_type": "code",
   "execution_count": 10,
   "metadata": {},
   "outputs": [
    {
     "name": "stdout",
     "output_type": "stream",
     "text": [
      "                     taxi_id  district\n",
      "datetime                              \n",
      "2008-02-02 15:36:08        1  Chaoyang\n",
      "2008-02-02 15:46:08        1  Chaoyang\n",
      "2008-02-02 15:46:08        1  Chaoyang\n",
      "2008-02-02 15:56:08        1  Chaoyang\n",
      "2008-02-02 16:06:08        1  Chaoyang\n",
      "CPU times: user 1min 27s, sys: 2.18 s, total: 1min 30s\n",
      "Wall time: 1min 29s\n"
     ]
    }
   ],
   "source": [
    "%%time\n",
    "df_begin = pd.read_csv(\"total_district.txt\",\n",
    "                      names=['taxi_id','date_time','long','lat','district'])\n",
    "df_begin['datetime'] = pd.to_datetime(df_begin['date_time'],format = '%Y-%m-%d %X')\n",
    "df_begin = df_begin.set_index('datetime')\n",
    "df_begin.drop(['long','lat','date_time'], axis = 1, inplace = True)\n",
    "print(df_begin.head())"
   ]
  },
  {
   "cell_type": "code",
   "execution_count": 11,
   "metadata": {},
   "outputs": [
    {
     "name": "stdout",
     "output_type": "stream",
     "text": [
      "CPU times: user 45.1 s, sys: 1.1 s, total: 46.2 s\n",
      "Wall time: 46.2 s\n"
     ]
    }
   ],
   "source": [
    "%%time\n",
    "#Prevision for every 10 minutes\n",
    "df = df_begin.groupby([pd.Grouper(level='datetime', freq='10Min'),\n",
    "                      \"district\"])[['taxi_id']].count().reset_index()"
   ]
  },
  {
   "cell_type": "code",
   "execution_count": 4,
   "metadata": {},
   "outputs": [
    {
     "data": {
      "text/html": [
       "<div>\n",
       "<style scoped>\n",
       "    .dataframe tbody tr th:only-of-type {\n",
       "        vertical-align: middle;\n",
       "    }\n",
       "\n",
       "    .dataframe tbody tr th {\n",
       "        vertical-align: top;\n",
       "    }\n",
       "\n",
       "    .dataframe thead th {\n",
       "        text-align: right;\n",
       "    }\n",
       "</style>\n",
       "<table border=\"1\" class=\"dataframe\">\n",
       "  <thead>\n",
       "    <tr style=\"text-align: right;\">\n",
       "      <th></th>\n",
       "      <th>datetime</th>\n",
       "      <th>district</th>\n",
       "      <th>taxi_id</th>\n",
       "    </tr>\n",
       "  </thead>\n",
       "  <tbody>\n",
       "    <tr>\n",
       "      <th>0</th>\n",
       "      <td>2008-02-02 13:30:00</td>\n",
       "      <td>Changping</td>\n",
       "      <td>72</td>\n",
       "    </tr>\n",
       "    <tr>\n",
       "      <th>1</th>\n",
       "      <td>2008-02-02 13:30:00</td>\n",
       "      <td>Chaoyang</td>\n",
       "      <td>4335</td>\n",
       "    </tr>\n",
       "    <tr>\n",
       "      <th>2</th>\n",
       "      <td>2008-02-02 13:30:00</td>\n",
       "      <td>Chongwen</td>\n",
       "      <td>2624</td>\n",
       "    </tr>\n",
       "    <tr>\n",
       "      <th>3</th>\n",
       "      <td>2008-02-02 13:30:00</td>\n",
       "      <td>Daxing</td>\n",
       "      <td>177</td>\n",
       "    </tr>\n",
       "    <tr>\n",
       "      <th>4</th>\n",
       "      <td>2008-02-02 13:30:00</td>\n",
       "      <td>Dongcheng</td>\n",
       "      <td>2808</td>\n",
       "    </tr>\n",
       "  </tbody>\n",
       "</table>\n",
       "</div>"
      ],
      "text/plain": [
       "             datetime   district  taxi_id\n",
       "0 2008-02-02 13:30:00  Changping       72\n",
       "1 2008-02-02 13:30:00   Chaoyang     4335\n",
       "2 2008-02-02 13:30:00   Chongwen     2624\n",
       "3 2008-02-02 13:30:00     Daxing      177\n",
       "4 2008-02-02 13:30:00  Dongcheng     2808"
      ]
     },
     "execution_count": 4,
     "metadata": {},
     "output_type": "execute_result"
    }
   ],
   "source": [
    "df.head()"
   ]
  },
  {
   "cell_type": "code",
   "execution_count": 5,
   "metadata": {},
   "outputs": [
    {
     "data": {
      "text/plain": [
       "(15948, 3)"
      ]
     },
     "execution_count": 5,
     "metadata": {},
     "output_type": "execute_result"
    }
   ],
   "source": [
    "df.shape"
   ]
  },
  {
   "cell_type": "code",
   "execution_count": 12,
   "metadata": {},
   "outputs": [],
   "source": [
    "df.datetime = pd.to_datetime(df.datetime,format = '%Y-%m-%d %X')\n",
    "df.columns=['datetime','district','taxi_count']"
   ]
  },
  {
   "cell_type": "code",
   "execution_count": 13,
   "metadata": {},
   "outputs": [],
   "source": [
    "import requests\n",
    "from bs4 import BeautifulSoup\n",
    "from tabulate import tabulate"
   ]
  },
  {
   "cell_type": "code",
   "execution_count": 14,
   "metadata": {},
   "outputs": [],
   "source": [
    "res = requests.get(\"https://www.sunrise-and-sunset.com/en/sun/china/beijing/2008/february/2\")\n",
    "soup = BeautifulSoup(res.content,'lxml')\n",
    "all_tables=soup.find_all(\"table\")"
   ]
  },
  {
   "cell_type": "code",
   "execution_count": 15,
   "metadata": {},
   "outputs": [],
   "source": [
    "df_sunrise = pd.read_html(str(all_tables[1]))[0][1:8].reset_index()"
   ]
  },
  {
   "cell_type": "code",
   "execution_count": 16,
   "metadata": {},
   "outputs": [
    {
     "name": "stderr",
     "output_type": "stream",
     "text": [
      "/home/pranav/.local/lib/python3.5/site-packages/pandas/core/generic.py:3812: PerformanceWarning: dropping on a non-lexsorted multi-index without a level parameter may impact performance.\n",
      "  new_axis = axis.drop(labels, errors=errors)\n"
     ]
    }
   ],
   "source": [
    "df_sunrise.drop('index',axis=1,inplace=True)"
   ]
  },
  {
   "cell_type": "code",
   "execution_count": 17,
   "metadata": {},
   "outputs": [],
   "source": [
    "df_sunrise.columns=[\"Day\",\"Sunrise\",\"Sunset\",\"Day Lenght\"]"
   ]
  },
  {
   "cell_type": "code",
   "execution_count": 18,
   "metadata": {},
   "outputs": [
    {
     "data": {
      "text/html": [
       "<div>\n",
       "<style scoped>\n",
       "    .dataframe tbody tr th:only-of-type {\n",
       "        vertical-align: middle;\n",
       "    }\n",
       "\n",
       "    .dataframe tbody tr th {\n",
       "        vertical-align: top;\n",
       "    }\n",
       "\n",
       "    .dataframe thead th {\n",
       "        text-align: right;\n",
       "    }\n",
       "</style>\n",
       "<table border=\"1\" class=\"dataframe\">\n",
       "  <thead>\n",
       "    <tr style=\"text-align: right;\">\n",
       "      <th></th>\n",
       "      <th>Day</th>\n",
       "      <th>Sunrise</th>\n",
       "      <th>Sunset</th>\n",
       "      <th>Day Lenght</th>\n",
       "    </tr>\n",
       "  </thead>\n",
       "  <tbody>\n",
       "    <tr>\n",
       "      <th>0</th>\n",
       "      <td>2 February 2008, Saturday</td>\n",
       "      <td>07:23</td>\n",
       "      <td>17:32</td>\n",
       "      <td>10:09</td>\n",
       "    </tr>\n",
       "    <tr>\n",
       "      <th>1</th>\n",
       "      <td>3 February 2008, Sunday</td>\n",
       "      <td>07:22</td>\n",
       "      <td>17:34</td>\n",
       "      <td>10:11</td>\n",
       "    </tr>\n",
       "    <tr>\n",
       "      <th>2</th>\n",
       "      <td>4 February 2008, Monday</td>\n",
       "      <td>07:21</td>\n",
       "      <td>17:35</td>\n",
       "      <td>10:13</td>\n",
       "    </tr>\n",
       "    <tr>\n",
       "      <th>3</th>\n",
       "      <td>5 February 2008, Tuesday</td>\n",
       "      <td>07:20</td>\n",
       "      <td>17:36</td>\n",
       "      <td>10:15</td>\n",
       "    </tr>\n",
       "    <tr>\n",
       "      <th>4</th>\n",
       "      <td>6 February 2008, Wednesday</td>\n",
       "      <td>07:19</td>\n",
       "      <td>17:37</td>\n",
       "      <td>10:17</td>\n",
       "    </tr>\n",
       "    <tr>\n",
       "      <th>5</th>\n",
       "      <td>7 February 2008, Thursday</td>\n",
       "      <td>07:18</td>\n",
       "      <td>17:38</td>\n",
       "      <td>10:20</td>\n",
       "    </tr>\n",
       "    <tr>\n",
       "      <th>6</th>\n",
       "      <td>8 February 2008, Friday</td>\n",
       "      <td>07:17</td>\n",
       "      <td>17:40</td>\n",
       "      <td>10:22</td>\n",
       "    </tr>\n",
       "  </tbody>\n",
       "</table>\n",
       "</div>"
      ],
      "text/plain": [
       "                          Day Sunrise Sunset Day Lenght\n",
       "0   2 February 2008, Saturday   07:23  17:32      10:09\n",
       "1     3 February 2008, Sunday   07:22  17:34      10:11\n",
       "2     4 February 2008, Monday   07:21  17:35      10:13\n",
       "3    5 February 2008, Tuesday   07:20  17:36      10:15\n",
       "4  6 February 2008, Wednesday   07:19  17:37      10:17\n",
       "5   7 February 2008, Thursday   07:18  17:38      10:20\n",
       "6     8 February 2008, Friday   07:17  17:40      10:22"
      ]
     },
     "execution_count": 18,
     "metadata": {},
     "output_type": "execute_result"
    }
   ],
   "source": [
    "df_sunrise"
   ]
  },
  {
   "cell_type": "code",
   "execution_count": 19,
   "metadata": {},
   "outputs": [],
   "source": [
    "df_sunrise = pd.concat([df_sunrise,pd.DataFrame([day.split(',') for day in df_sunrise.Day])],\n",
    "                        axis=1,ignore_index=True)\n",
    "df_sunrise.columns=[\"Day\",\"Sunrise\",\"Sunset\",\"Day Length\",\"Date\",\"WeekDay\"]\n",
    "df_sunrise.Date = pd.to_datetime(df_sunrise.Date)"
   ]
  },
  {
   "cell_type": "code",
   "execution_count": 20,
   "metadata": {},
   "outputs": [],
   "source": [
    "df_sunrise.Date = pd.to_datetime(df_sunrise.Date)"
   ]
  },
  {
   "cell_type": "code",
   "execution_count": 21,
   "metadata": {},
   "outputs": [
    {
     "data": {
      "text/html": [
       "<div>\n",
       "<style scoped>\n",
       "    .dataframe tbody tr th:only-of-type {\n",
       "        vertical-align: middle;\n",
       "    }\n",
       "\n",
       "    .dataframe tbody tr th {\n",
       "        vertical-align: top;\n",
       "    }\n",
       "\n",
       "    .dataframe thead th {\n",
       "        text-align: right;\n",
       "    }\n",
       "</style>\n",
       "<table border=\"1\" class=\"dataframe\">\n",
       "  <thead>\n",
       "    <tr style=\"text-align: right;\">\n",
       "      <th></th>\n",
       "      <th>Day</th>\n",
       "      <th>Sunrise</th>\n",
       "      <th>Sunset</th>\n",
       "      <th>Day Length</th>\n",
       "      <th>Date</th>\n",
       "      <th>WeekDay</th>\n",
       "    </tr>\n",
       "  </thead>\n",
       "  <tbody>\n",
       "    <tr>\n",
       "      <th>0</th>\n",
       "      <td>2 February 2008, Saturday</td>\n",
       "      <td>07:23</td>\n",
       "      <td>17:32</td>\n",
       "      <td>10:09</td>\n",
       "      <td>2008-02-02</td>\n",
       "      <td>Saturday</td>\n",
       "    </tr>\n",
       "    <tr>\n",
       "      <th>1</th>\n",
       "      <td>3 February 2008, Sunday</td>\n",
       "      <td>07:22</td>\n",
       "      <td>17:34</td>\n",
       "      <td>10:11</td>\n",
       "      <td>2008-02-03</td>\n",
       "      <td>Sunday</td>\n",
       "    </tr>\n",
       "    <tr>\n",
       "      <th>2</th>\n",
       "      <td>4 February 2008, Monday</td>\n",
       "      <td>07:21</td>\n",
       "      <td>17:35</td>\n",
       "      <td>10:13</td>\n",
       "      <td>2008-02-04</td>\n",
       "      <td>Monday</td>\n",
       "    </tr>\n",
       "    <tr>\n",
       "      <th>3</th>\n",
       "      <td>5 February 2008, Tuesday</td>\n",
       "      <td>07:20</td>\n",
       "      <td>17:36</td>\n",
       "      <td>10:15</td>\n",
       "      <td>2008-02-05</td>\n",
       "      <td>Tuesday</td>\n",
       "    </tr>\n",
       "    <tr>\n",
       "      <th>4</th>\n",
       "      <td>6 February 2008, Wednesday</td>\n",
       "      <td>07:19</td>\n",
       "      <td>17:37</td>\n",
       "      <td>10:17</td>\n",
       "      <td>2008-02-06</td>\n",
       "      <td>Wednesday</td>\n",
       "    </tr>\n",
       "    <tr>\n",
       "      <th>5</th>\n",
       "      <td>7 February 2008, Thursday</td>\n",
       "      <td>07:18</td>\n",
       "      <td>17:38</td>\n",
       "      <td>10:20</td>\n",
       "      <td>2008-02-07</td>\n",
       "      <td>Thursday</td>\n",
       "    </tr>\n",
       "    <tr>\n",
       "      <th>6</th>\n",
       "      <td>8 February 2008, Friday</td>\n",
       "      <td>07:17</td>\n",
       "      <td>17:40</td>\n",
       "      <td>10:22</td>\n",
       "      <td>2008-02-08</td>\n",
       "      <td>Friday</td>\n",
       "    </tr>\n",
       "  </tbody>\n",
       "</table>\n",
       "</div>"
      ],
      "text/plain": [
       "                          Day Sunrise Sunset Day Length       Date     WeekDay\n",
       "0   2 February 2008, Saturday   07:23  17:32      10:09 2008-02-02    Saturday\n",
       "1     3 February 2008, Sunday   07:22  17:34      10:11 2008-02-03      Sunday\n",
       "2     4 February 2008, Monday   07:21  17:35      10:13 2008-02-04      Monday\n",
       "3    5 February 2008, Tuesday   07:20  17:36      10:15 2008-02-05     Tuesday\n",
       "4  6 February 2008, Wednesday   07:19  17:37      10:17 2008-02-06   Wednesday\n",
       "5   7 February 2008, Thursday   07:18  17:38      10:20 2008-02-07    Thursday\n",
       "6     8 February 2008, Friday   07:17  17:40      10:22 2008-02-08      Friday"
      ]
     },
     "execution_count": 21,
     "metadata": {},
     "output_type": "execute_result"
    }
   ],
   "source": [
    "df_sunrise"
   ]
  },
  {
   "cell_type": "code",
   "execution_count": 16,
   "metadata": {},
   "outputs": [],
   "source": [
    "#Just save it in case the site goes down we have a backup\n",
    "#df_sunrise.to_csv(\"sunrise_timing_beijing.csv\",index=None)"
   ]
  },
  {
   "cell_type": "code",
   "execution_count": 22,
   "metadata": {},
   "outputs": [],
   "source": [
    "def is_sun_up(data,sunrise_table):\n",
    "    detail  = sunrise_table[data.date()==sunrise_table.Date.dt.date].reset_index()\n",
    "    sunrise = pd.to_datetime(detail['Date'].dt.date.apply(str)+\" \"+detail['Sunrise'])\n",
    "    sunset  = pd.to_datetime(detail['Date'].dt.date.apply(str)+\" \"+detail['Sunset'])\n",
    "    if ((sunrise < data) & (data < sunset))[0]:\n",
    "        return 1\n",
    "    else:\n",
    "        return 0"
   ]
  },
  {
   "cell_type": "code",
   "execution_count": 25,
   "metadata": {},
   "outputs": [],
   "source": [
    "def day_period(time):\n",
    "    hour = time.hour\n",
    "    if(0<=hour<=5 or hour>=23):\n",
    "        return \"Night\"\n",
    "    if(6<=hour<=12):\n",
    "        return \"Morning\"\n",
    "    if(12<hour<=18):\n",
    "        return \"Afternoon\"\n",
    "    if(18<hour<23):\n",
    "        return \"Evening\"\n",
    "    \n",
    "def is_time_to_eat(time):\n",
    "    hour = time.hour\n",
    "    if(6<=hour<=9 or 12<=hour<=14 or 18<=hour<=21):\n",
    "        return 1 #yes\n",
    "    else:\n",
    "        return 0 #no"
   ]
  },
  {
   "cell_type": "code",
   "execution_count": 19,
   "metadata": {},
   "outputs": [],
   "source": [
    "#%%time\n",
    "#df[\"period\"] = df.datetime.apply(day_period)\n",
    "#I find more interesting this way, atleast there is some data behind it to\n",
    "#justify, defining the Morning, Evening like we did before cannot be easily\n",
    "#justified.\n",
    "#df[\"is_sun_up\"]  = df.datetime.apply(lambda x: is_sun_up(x,df_sunrise)) \n",
    "#df[\"time_to_eat\"] = df.datetime.apply(is_time_to_eat)"
   ]
  },
  {
   "cell_type": "code",
   "execution_count": 26,
   "metadata": {
    "scrolled": true
   },
   "outputs": [
    {
     "data": {
      "text/html": [
       "<div>\n",
       "<style scoped>\n",
       "    .dataframe tbody tr th:only-of-type {\n",
       "        vertical-align: middle;\n",
       "    }\n",
       "\n",
       "    .dataframe tbody tr th {\n",
       "        vertical-align: top;\n",
       "    }\n",
       "\n",
       "    .dataframe thead th {\n",
       "        text-align: right;\n",
       "    }\n",
       "</style>\n",
       "<table border=\"1\" class=\"dataframe\">\n",
       "  <thead>\n",
       "    <tr style=\"text-align: right;\">\n",
       "      <th></th>\n",
       "      <th>datetime</th>\n",
       "      <th>district</th>\n",
       "      <th>taxi_count</th>\n",
       "    </tr>\n",
       "  </thead>\n",
       "  <tbody>\n",
       "    <tr>\n",
       "      <th>0</th>\n",
       "      <td>2008-02-02 13:30:00</td>\n",
       "      <td>Changping</td>\n",
       "      <td>72</td>\n",
       "    </tr>\n",
       "    <tr>\n",
       "      <th>1</th>\n",
       "      <td>2008-02-02 13:30:00</td>\n",
       "      <td>Chaoyang</td>\n",
       "      <td>4335</td>\n",
       "    </tr>\n",
       "    <tr>\n",
       "      <th>2</th>\n",
       "      <td>2008-02-02 13:30:00</td>\n",
       "      <td>Chongwen</td>\n",
       "      <td>2624</td>\n",
       "    </tr>\n",
       "    <tr>\n",
       "      <th>3</th>\n",
       "      <td>2008-02-02 13:30:00</td>\n",
       "      <td>Daxing</td>\n",
       "      <td>177</td>\n",
       "    </tr>\n",
       "    <tr>\n",
       "      <th>4</th>\n",
       "      <td>2008-02-02 13:30:00</td>\n",
       "      <td>Dongcheng</td>\n",
       "      <td>2808</td>\n",
       "    </tr>\n",
       "    <tr>\n",
       "      <th>5</th>\n",
       "      <td>2008-02-02 13:30:00</td>\n",
       "      <td>Fangshan</td>\n",
       "      <td>82</td>\n",
       "    </tr>\n",
       "    <tr>\n",
       "      <th>6</th>\n",
       "      <td>2008-02-02 13:30:00</td>\n",
       "      <td>Fengtai</td>\n",
       "      <td>2035</td>\n",
       "    </tr>\n",
       "    <tr>\n",
       "      <th>7</th>\n",
       "      <td>2008-02-02 13:30:00</td>\n",
       "      <td>Haidian</td>\n",
       "      <td>2209</td>\n",
       "    </tr>\n",
       "    <tr>\n",
       "      <th>8</th>\n",
       "      <td>2008-02-02 13:30:00</td>\n",
       "      <td>Huairou</td>\n",
       "      <td>14</td>\n",
       "    </tr>\n",
       "    <tr>\n",
       "      <th>9</th>\n",
       "      <td>2008-02-02 13:30:00</td>\n",
       "      <td>Mentougou</td>\n",
       "      <td>21</td>\n",
       "    </tr>\n",
       "    <tr>\n",
       "      <th>10</th>\n",
       "      <td>2008-02-02 13:30:00</td>\n",
       "      <td>Miyun</td>\n",
       "      <td>20</td>\n",
       "    </tr>\n",
       "    <tr>\n",
       "      <th>11</th>\n",
       "      <td>2008-02-02 13:30:00</td>\n",
       "      <td>Pinggu</td>\n",
       "      <td>70</td>\n",
       "    </tr>\n",
       "    <tr>\n",
       "      <th>12</th>\n",
       "      <td>2008-02-02 13:30:00</td>\n",
       "      <td>Shijingshan</td>\n",
       "      <td>135</td>\n",
       "    </tr>\n",
       "    <tr>\n",
       "      <th>13</th>\n",
       "      <td>2008-02-02 13:30:00</td>\n",
       "      <td>Shunyi</td>\n",
       "      <td>792</td>\n",
       "    </tr>\n",
       "    <tr>\n",
       "      <th>14</th>\n",
       "      <td>2008-02-02 13:30:00</td>\n",
       "      <td>Tongzhou</td>\n",
       "      <td>243</td>\n",
       "    </tr>\n",
       "    <tr>\n",
       "      <th>15</th>\n",
       "      <td>2008-02-02 13:30:00</td>\n",
       "      <td>Xicheng</td>\n",
       "      <td>467</td>\n",
       "    </tr>\n",
       "    <tr>\n",
       "      <th>16</th>\n",
       "      <td>2008-02-02 13:30:00</td>\n",
       "      <td>Xuanwu</td>\n",
       "      <td>3599</td>\n",
       "    </tr>\n",
       "    <tr>\n",
       "      <th>17</th>\n",
       "      <td>2008-02-02 13:30:00</td>\n",
       "      <td>Yanqing</td>\n",
       "      <td>18</td>\n",
       "    </tr>\n",
       "    <tr>\n",
       "      <th>18</th>\n",
       "      <td>2008-02-02 13:40:00</td>\n",
       "      <td>Changping</td>\n",
       "      <td>153</td>\n",
       "    </tr>\n",
       "    <tr>\n",
       "      <th>19</th>\n",
       "      <td>2008-02-02 13:40:00</td>\n",
       "      <td>Chaoyang</td>\n",
       "      <td>6237</td>\n",
       "    </tr>\n",
       "  </tbody>\n",
       "</table>\n",
       "</div>"
      ],
      "text/plain": [
       "              datetime     district  taxi_count\n",
       "0  2008-02-02 13:30:00    Changping          72\n",
       "1  2008-02-02 13:30:00     Chaoyang        4335\n",
       "2  2008-02-02 13:30:00     Chongwen        2624\n",
       "3  2008-02-02 13:30:00       Daxing         177\n",
       "4  2008-02-02 13:30:00    Dongcheng        2808\n",
       "5  2008-02-02 13:30:00     Fangshan          82\n",
       "6  2008-02-02 13:30:00      Fengtai        2035\n",
       "7  2008-02-02 13:30:00      Haidian        2209\n",
       "8  2008-02-02 13:30:00      Huairou          14\n",
       "9  2008-02-02 13:30:00    Mentougou          21\n",
       "10 2008-02-02 13:30:00        Miyun          20\n",
       "11 2008-02-02 13:30:00       Pinggu          70\n",
       "12 2008-02-02 13:30:00  Shijingshan         135\n",
       "13 2008-02-02 13:30:00       Shunyi         792\n",
       "14 2008-02-02 13:30:00     Tongzhou         243\n",
       "15 2008-02-02 13:30:00      Xicheng         467\n",
       "16 2008-02-02 13:30:00       Xuanwu        3599\n",
       "17 2008-02-02 13:30:00      Yanqing          18\n",
       "18 2008-02-02 13:40:00    Changping         153\n",
       "19 2008-02-02 13:40:00     Chaoyang        6237"
      ]
     },
     "execution_count": 26,
     "metadata": {},
     "output_type": "execute_result"
    }
   ],
   "source": [
    "#In the LSTM I don't actually need it the extra variable,\n",
    "#just keeping them in case you guys need it\n",
    "df.head(20)"
   ]
  },
  {
   "cell_type": "code",
   "execution_count": 27,
   "metadata": {},
   "outputs": [],
   "source": [
    "time_series = df.groupby('datetime')['taxi_count'].sum()"
   ]
  },
  {
   "cell_type": "code",
   "execution_count": 28,
   "metadata": {},
   "outputs": [],
   "source": [
    "time_series = pd.DataFrame(time_series).reset_index()"
   ]
  },
  {
   "cell_type": "code",
   "execution_count": 29,
   "metadata": {},
   "outputs": [
    {
     "name": "stdout",
     "output_type": "stream",
     "text": [
      "CPU times: user 6.48 s, sys: 24 ms, total: 6.5 s\n",
      "Wall time: 6.51 s\n"
     ]
    }
   ],
   "source": [
    "%%time\n",
    "time_series[\"is_sun_up\"]  = time_series.datetime.apply(lambda x: is_sun_up(x,df_sunrise)) \n",
    "time_series[\"time_to_eat\"] = time_series.datetime.apply(is_time_to_eat)"
   ]
  },
  {
   "cell_type": "code",
   "execution_count": 30,
   "metadata": {},
   "outputs": [],
   "source": [
    "time_series.set_index('datetime',inplace=True)"
   ]
  },
  {
   "cell_type": "code",
   "execution_count": 31,
   "metadata": {},
   "outputs": [
    {
     "data": {
      "text/html": [
       "<div>\n",
       "<style scoped>\n",
       "    .dataframe tbody tr th:only-of-type {\n",
       "        vertical-align: middle;\n",
       "    }\n",
       "\n",
       "    .dataframe tbody tr th {\n",
       "        vertical-align: top;\n",
       "    }\n",
       "\n",
       "    .dataframe thead th {\n",
       "        text-align: right;\n",
       "    }\n",
       "</style>\n",
       "<table border=\"1\" class=\"dataframe\">\n",
       "  <thead>\n",
       "    <tr style=\"text-align: right;\">\n",
       "      <th></th>\n",
       "      <th>taxi_count</th>\n",
       "      <th>is_sun_up</th>\n",
       "      <th>time_to_eat</th>\n",
       "    </tr>\n",
       "    <tr>\n",
       "      <th>datetime</th>\n",
       "      <th></th>\n",
       "      <th></th>\n",
       "      <th></th>\n",
       "    </tr>\n",
       "  </thead>\n",
       "  <tbody>\n",
       "    <tr>\n",
       "      <th>2008-02-02 13:30:00</th>\n",
       "      <td>19721</td>\n",
       "      <td>1</td>\n",
       "      <td>1</td>\n",
       "    </tr>\n",
       "    <tr>\n",
       "      <th>2008-02-02 13:40:00</th>\n",
       "      <td>28444</td>\n",
       "      <td>1</td>\n",
       "      <td>1</td>\n",
       "    </tr>\n",
       "    <tr>\n",
       "      <th>2008-02-02 13:50:00</th>\n",
       "      <td>28627</td>\n",
       "      <td>1</td>\n",
       "      <td>1</td>\n",
       "    </tr>\n",
       "    <tr>\n",
       "      <th>2008-02-02 14:00:00</th>\n",
       "      <td>25055</td>\n",
       "      <td>1</td>\n",
       "      <td>1</td>\n",
       "    </tr>\n",
       "    <tr>\n",
       "      <th>2008-02-02 14:10:00</th>\n",
       "      <td>24114</td>\n",
       "      <td>1</td>\n",
       "      <td>1</td>\n",
       "    </tr>\n",
       "  </tbody>\n",
       "</table>\n",
       "</div>"
      ],
      "text/plain": [
       "                     taxi_count  is_sun_up  time_to_eat\n",
       "datetime                                               \n",
       "2008-02-02 13:30:00       19721          1            1\n",
       "2008-02-02 13:40:00       28444          1            1\n",
       "2008-02-02 13:50:00       28627          1            1\n",
       "2008-02-02 14:00:00       25055          1            1\n",
       "2008-02-02 14:10:00       24114          1            1"
      ]
     },
     "execution_count": 31,
     "metadata": {},
     "output_type": "execute_result"
    }
   ],
   "source": [
    "time_series.head()"
   ]
  },
  {
   "cell_type": "code",
   "execution_count": 32,
   "metadata": {},
   "outputs": [
    {
     "data": {
      "image/png": "[encoded data removed]",
      "text/plain": [
       "<Figure size 720x720 with 1 Axes>"
      ]
     },
     "metadata": {
      "needs_background": "light"
     },
     "output_type": "display_data"
    }
   ],
   "source": [
    "plt.figure(figsize=(10, 10))\n",
    "time_series.taxi_count.plot()\n",
    "plt.show()"
   ]
  },
  {
   "cell_type": "code",
   "execution_count": 27,
   "metadata": {},
   "outputs": [
    {
     "name": "stderr",
     "output_type": "stream",
     "text": [
      "/home/pranav/.local/lib/python3.5/site-packages/IPython/core/display.py:689: UserWarning:\n",
      "\n",
      "Consider using IPython.display.IFrame instead\n",
      "\n"
     ]
    },
    {
     "data": {
      "text/html": [
       "<iframe id=\"igraph\" scrolling=\"no\" style=\"border:none;\" seamless=\"seamless\" src=\"https://plot.ly/~pkasela/16.embed\" height=\"525px\" width=\"100%\"></iframe>"
      ],
      "text/plain": [
       "<chart_studio.tools.PlotlyDisplay object>"
      ]
     },
     "execution_count": 27,
     "metadata": {},
     "output_type": "execute_result"
    }
   ],
   "source": [
    "import plotly.plotly as py\n",
    "import cufflinks as cf\n",
    "\n",
    "py.iplot([{\n",
    "    'x': time_series.index,\n",
    "    'y': time_series.taxi_count\n",
    "}])"
   ]
  },
  {
   "cell_type": "markdown",
   "metadata": {},
   "source": [
    "# Here is the LSTM"
   ]
  },
  {
   "cell_type": "code",
   "execution_count": 33,
   "metadata": {},
   "outputs": [],
   "source": [
    "#This is the one we will use for the forcasting\n",
    "time_series_simple = time_series.iloc[:,0:1].values"
   ]
  },
  {
   "cell_type": "code",
   "execution_count": 34,
   "metadata": {},
   "outputs": [],
   "source": [
    "#Splitting the training and the test set,\n",
    "#We keep the last 150 observations for testing\n",
    "train, test = time_series_simple[6:-80], time_series_simple[-80:]"
   ]
  },
  {
   "cell_type": "code",
   "execution_count": 35,
   "metadata": {},
   "outputs": [
    {
     "data": {
      "text/plain": [
       "(800, 1)"
      ]
     },
     "execution_count": 35,
     "metadata": {},
     "output_type": "execute_result"
    }
   ],
   "source": [
    "#Just checking the dimensions\n",
    "train.shape"
   ]
  },
  {
   "cell_type": "code",
   "execution_count": 36,
   "metadata": {
    "scrolled": true
   },
   "outputs": [],
   "source": [
    "from sklearn.preprocessing import MinMaxScaler\n",
    "import tensorflow as tf"
   ]
  },
  {
   "cell_type": "code",
   "execution_count": 37,
   "metadata": {},
   "outputs": [],
   "source": [
    "scaler = MinMaxScaler(feature_range=(0,1))\n",
    "#They work better in this range (0,1)\n",
    "#We fit according to the traning set, since we\n",
    "#assume not to have access to the test set\n",
    "train_scaled = scaler.fit_transform(train) "
   ]
  },
  {
   "cell_type": "code",
   "execution_count": 38,
   "metadata": {
    "scrolled": true
   },
   "outputs": [
    {
     "data": {
      "text/plain": [
       "array([[0.80078748],\n",
       "       [0.81490784],\n",
       "       [0.77638234],\n",
       "       [0.76219409]])"
      ]
     },
     "execution_count": 38,
     "metadata": {},
     "output_type": "execute_result"
    }
   ],
   "source": [
    "#Just double checking\n",
    "train_scaled[1:5]"
   ]
  },
  {
   "cell_type": "code",
   "execution_count": 39,
   "metadata": {},
   "outputs": [],
   "source": [
    "#number of records to use to predict the future.\n",
    "old_record_number=80"
   ]
  },
  {
   "cell_type": "code",
   "execution_count": 40,
   "metadata": {},
   "outputs": [],
   "source": [
    "features_set = []  \n",
    "labels = []  \n",
    "#Use N=old_record_number to predict to next one\n",
    "#we create the N features for the Neurons inputs and\n",
    "# the label contain the y values\n",
    "#so basically a x_train and a y_train\n",
    "for i in range(old_record_number, len(train_scaled)):  \n",
    "    features_set.append(train_scaled[i-old_record_number:i, 0])\n",
    "    labels.append(train_scaled[i, 0])"
   ]
  },
  {
   "cell_type": "code",
   "execution_count": 41,
   "metadata": {},
   "outputs": [],
   "source": [
    "# We need them as np array\n",
    "features_set, labels = np.array(features_set), np.array(labels)  "
   ]
  },
  {
   "cell_type": "code",
   "execution_count": 42,
   "metadata": {},
   "outputs": [],
   "source": [
    "#Reshape them according to what LSTM wants:\n",
    "# - A three dimensional array where the:\n",
    "#   - first dim is the number of records\n",
    "#   - second dim is the number of steps (old_record_number)\n",
    "#   - third dim is the number of variabiles (for us 1, since we use only the taxi_count)\n",
    "features_set = np.reshape(features_set, \n",
    "                          (features_set.shape[0], \n",
    "                           features_set.shape[1], \n",
    "                           1))  #Using only one feature"
   ]
  },
  {
   "cell_type": "code",
   "execution_count": 43,
   "metadata": {},
   "outputs": [
    {
     "data": {
      "text/plain": [
       "(720, 80, 1)"
      ]
     },
     "execution_count": 43,
     "metadata": {},
     "output_type": "execute_result"
    }
   ],
   "source": [
    "features_set.shape"
   ]
  },
  {
   "cell_type": "code",
   "execution_count": 86,
   "metadata": {},
   "outputs": [],
   "source": [
    "from tensorflow.keras.models import Sequential  \n",
    "from tensorflow.keras.layers import Dense  \n",
    "from tensorflow.keras.layers import LSTM  \n",
    "from tensorflow.keras.layers import Dropout \n",
    "from livelossplot.tf_keras import PlotLossesCallback"
   ]
  },
  {
   "cell_type": "code",
   "execution_count": null,
   "metadata": {},
   "outputs": [],
   "source": []
  },
  {
   "cell_type": "code",
   "execution_count": 89,
   "metadata": {},
   "outputs": [],
   "source": [
    "class LSTM_NN:\n",
    "    \"\"\"This is a LSTM NN, it take in input a vector containing prende the units of \n",
    "    LSTM, the drop parameters to avoid overfitting (len(units) must be the same as len(drop)), \n",
    "    batch size and the training set divided into x_train and y_train\"\"\"\n",
    "    def __init__(self,units,drop,epochs,batch_size,x_train,y_train):\n",
    "        \"The function compiles and fits the neural network\"\n",
    "        self.units = units\n",
    "        self.shape_1 = x_train.shape[1]\n",
    "        self.shape_2 = x_train.shape[2]\n",
    "        self.drop  = drop\n",
    "        self.model = Sequential()\n",
    "        self.count = len(units)\n",
    "        self.create_model()\n",
    "        self.epochs=epochs\n",
    "        self.batch_size = batch_size\n",
    "        self.fit(x_train,y_train)\n",
    "        \n",
    "    def create_model(self):\n",
    "        \"Create the actual NN\"\n",
    "        #units is the number of neurons, return_sequences is True because \n",
    "        #we will use more layers\n",
    "        if (self.count!=len(self.units)):\n",
    "            print(\"ERROR: units and drops must have the same length\")\n",
    "            return\n",
    "        if (self.count > 1):\n",
    "            for i in range(self.count-1):\n",
    "                self.model.add(LSTM(units=self.units[i],return_sequences=True,\n",
    "                         input_shape = (self.shape_1,self.shape_2)))\n",
    "                self.model.add(Dropout(self.drop[i])) #avoids overfitting\n",
    "        \n",
    "        self.model.add(LSTM(units=self.units[-1]))\n",
    "        self.model.add(Dropout(self.drop[-1]))\n",
    "        \n",
    "        self.model.add(Dense(units=1))#output layer\n",
    "        #use rmsprop as optimizer and mse as the metrics, the loss is MAE\n",
    "        self.model.compile(optimizer = 'rmsprop', loss = 'mean_absolute_error',\n",
    "                          metrics=['mse'])\n",
    "        \n",
    "    def fit(self,X_train,y_train):\n",
    "        \"Fitting the model with the training set\"\n",
    "        #remember the batch size must divide the training and the test size\n",
    "        self.model.fit(X_train,y_train,\n",
    "                       epochs=self.epochs,batch_size=self.batch_size)\n",
    "    def predict(self,x_test):\n",
    "        \"return the prediction of the test set\"\n",
    "        return(self.model.predict(x_test))\n",
    "    def get_model(self):\n",
    "        return self.model"
   ]
  },
  {
   "cell_type": "code",
   "execution_count": 148,
   "metadata": {
    "scrolled": true
   },
   "outputs": [
    {
     "name": "stdout",
     "output_type": "stream",
     "text": [
      "Epoch 1/100\n",
      "720/720 [==============================] - 10s 13ms/sample - loss: 0.2266 - mean_squared_error: 0.0880\n",
      "Epoch 2/100\n",
      "720/720 [==============================] - 7s 10ms/sample - loss: 0.1203 - mean_squared_error: 0.0242\n",
      "Epoch 3/100\n",
      "720/720 [==============================] - 8s 11ms/sample - loss: 0.1281 - mean_squared_error: 0.0260\n",
      "Epoch 4/100\n",
      "720/720 [==============================] - 6s 8ms/sample - loss: 0.1062 - mean_squared_error: 0.0194\n",
      "Epoch 5/100\n",
      "720/720 [==============================] - 6s 9ms/sample - loss: 0.1053 - mean_squared_error: 0.0184\n",
      "Epoch 6/100\n",
      "720/720 [==============================] - 6s 9ms/sample - loss: 0.1031 - mean_squared_error: 0.0171\n",
      "Epoch 7/100\n",
      "720/720 [==============================] - 6s 8ms/sample - loss: 0.0912 - mean_squared_error: 0.0142\n",
      "Epoch 8/100\n",
      "720/720 [==============================] - 6s 8ms/sample - loss: 0.0903 - mean_squared_error: 0.0136\n",
      "Epoch 9/100\n",
      "720/720 [==============================] - 6s 8ms/sample - loss: 0.0834 - mean_squared_error: 0.0119\n",
      "Epoch 10/100\n",
      "720/720 [==============================] - 6s 8ms/sample - loss: 0.0775 - mean_squared_error: 0.0107\n",
      "Epoch 11/100\n",
      "720/720 [==============================] - 6s 8ms/sample - loss: 0.0838 - mean_squared_error: 0.0121\n",
      "Epoch 12/100\n",
      "720/720 [==============================] - 6s 8ms/sample - loss: 0.0903 - mean_squared_error: 0.0127\n",
      "Epoch 13/100\n",
      "720/720 [==============================] - 6s 9ms/sample - loss: 0.0769 - mean_squared_error: 0.0101\n",
      "Epoch 14/100\n",
      "720/720 [==============================] - 6s 8ms/sample - loss: 0.0833 - mean_squared_error: 0.0113\n",
      "Epoch 15/100\n",
      "720/720 [==============================] - 6s 8ms/sample - loss: 0.0749 - mean_squared_error: 0.0096\n",
      "Epoch 16/100\n",
      "720/720 [==============================] - 5s 7ms/sample - loss: 0.0705 - mean_squared_error: 0.0094\n",
      "Epoch 17/100\n",
      "720/720 [==============================] - 4s 5ms/sample - loss: 0.0822 - mean_squared_error: 0.0113\n",
      "Epoch 18/100\n",
      "720/720 [==============================] - 4s 5ms/sample - loss: 0.0739 - mean_squared_error: 0.0093\n",
      "Epoch 19/100\n",
      "720/720 [==============================] - 3s 5ms/sample - loss: 0.0715 - mean_squared_error: 0.0086\n",
      "Epoch 20/100\n",
      "720/720 [==============================] - 3s 4ms/sample - loss: 0.0774 - mean_squared_error: 0.0104\n",
      "Epoch 21/100\n",
      "720/720 [==============================] - 3s 4ms/sample - loss: 0.0674 - mean_squared_error: 0.0079\n",
      "Epoch 22/100\n",
      "720/720 [==============================] - 3s 5ms/sample - loss: 0.0714 - mean_squared_error: 0.0086\n",
      "Epoch 23/100\n",
      "720/720 [==============================] - 3s 4ms/sample - loss: 0.0746 - mean_squared_error: 0.0093\n",
      "Epoch 24/100\n",
      "720/720 [==============================] - 3s 4ms/sample - loss: 0.0672 - mean_squared_error: 0.0081\n",
      "Epoch 25/100\n",
      "720/720 [==============================] - 3s 4ms/sample - loss: 0.0703 - mean_squared_error: 0.0087\n",
      "Epoch 26/100\n",
      "720/720 [==============================] - 3s 5ms/sample - loss: 0.0699 - mean_squared_error: 0.0084\n",
      "Epoch 27/100\n",
      "720/720 [==============================] - 3s 5ms/sample - loss: 0.0657 - mean_squared_error: 0.0075\n",
      "Epoch 28/100\n",
      "720/720 [==============================] - 3s 4ms/sample - loss: 0.0616 - mean_squared_error: 0.0069\n",
      "Epoch 29/100\n",
      "720/720 [==============================] - 3s 4ms/sample - loss: 0.0689 - mean_squared_error: 0.0087\n",
      "Epoch 30/100\n",
      "720/720 [==============================] - 3s 5ms/sample - loss: 0.0640 - mean_squared_error: 0.0074\n",
      "Epoch 31/100\n",
      "720/720 [==============================] - 3s 4ms/sample - loss: 0.0642 - mean_squared_error: 0.0075\n",
      "Epoch 32/100\n",
      "720/720 [==============================] - 3s 4ms/sample - loss: 0.0595 - mean_squared_error: 0.0066\n",
      "Epoch 33/100\n",
      "720/720 [==============================] - 3s 5ms/sample - loss: 0.0689 - mean_squared_error: 0.0083\n",
      "Epoch 34/100\n",
      "720/720 [==============================] - 4s 5ms/sample - loss: 0.0626 - mean_squared_error: 0.0070\n",
      "Epoch 35/100\n",
      "720/720 [==============================] - 4s 6ms/sample - loss: 0.0607 - mean_squared_error: 0.0069\n",
      "Epoch 36/100\n",
      "720/720 [==============================] - 4s 6ms/sample - loss: 0.0592 - mean_squared_error: 0.0065\n",
      "Epoch 37/100\n",
      "720/720 [==============================] - 4s 6ms/sample - loss: 0.0635 - mean_squared_error: 0.0071\n",
      "Epoch 38/100\n",
      "720/720 [==============================] - 4s 5ms/sample - loss: 0.0590 - mean_squared_error: 0.0064\n",
      "Epoch 39/100\n",
      "720/720 [==============================] - 3s 4ms/sample - loss: 0.0627 - mean_squared_error: 0.0071\n",
      "Epoch 40/100\n",
      "720/720 [==============================] - 3s 4ms/sample - loss: 0.0610 - mean_squared_error: 0.0071\n",
      "Epoch 41/100\n",
      "720/720 [==============================] - 4s 5ms/sample - loss: 0.0553 - mean_squared_error: 0.0058\n",
      "Epoch 42/100\n",
      "720/720 [==============================] - 3s 5ms/sample - loss: 0.0597 - mean_squared_error: 0.0066\n",
      "Epoch 43/100\n",
      "720/720 [==============================] - 3s 4ms/sample - loss: 0.0567 - mean_squared_error: 0.0060\n",
      "Epoch 44/100\n",
      "720/720 [==============================] - 3s 4ms/sample - loss: 0.0576 - mean_squared_error: 0.0062\n",
      "Epoch 45/100\n",
      "720/720 [==============================] - 3s 4ms/sample - loss: 0.0587 - mean_squared_error: 0.0065\n",
      "Epoch 46/100\n",
      "720/720 [==============================] - 4s 5ms/sample - loss: 0.0602 - mean_squared_error: 0.0067\n",
      "Epoch 47/100\n",
      "720/720 [==============================] - 3s 5ms/sample - loss: 0.0564 - mean_squared_error: 0.0059\n",
      "Epoch 48/100\n",
      "720/720 [==============================] - 3s 5ms/sample - loss: 0.0575 - mean_squared_error: 0.0059\n",
      "Epoch 49/100\n",
      "720/720 [==============================] - 4s 5ms/sample - loss: 0.0544 - mean_squared_error: 0.0058\n",
      "Epoch 50/100\n",
      "720/720 [==============================] - 3s 5ms/sample - loss: 0.0577 - mean_squared_error: 0.0061\n",
      "Epoch 51/100\n",
      "720/720 [==============================] - 3s 5ms/sample - loss: 0.0577 - mean_squared_error: 0.0065\n",
      "Epoch 52/100\n",
      "720/720 [==============================] - 3s 5ms/sample - loss: 0.0544 - mean_squared_error: 0.0057\n",
      "Epoch 53/100\n",
      "720/720 [==============================] - 3s 4ms/sample - loss: 0.0499 - mean_squared_error: 0.0048\n",
      "Epoch 54/100\n",
      "720/720 [==============================] - 4s 5ms/sample - loss: 0.0577 - mean_squared_error: 0.0063\n",
      "Epoch 55/100\n",
      "720/720 [==============================] - 3s 4ms/sample - loss: 0.0554 - mean_squared_error: 0.0059\n",
      "Epoch 56/100\n",
      "720/720 [==============================] - 3s 4ms/sample - loss: 0.0575 - mean_squared_error: 0.0062\n",
      "Epoch 57/100\n",
      "720/720 [==============================] - 3s 4ms/sample - loss: 0.0518 - mean_squared_error: 0.0052\n",
      "Epoch 58/100\n",
      "720/720 [==============================] - 3s 5ms/sample - loss: 0.0530 - mean_squared_error: 0.0057\n",
      "Epoch 59/100\n",
      "720/720 [==============================] - 3s 5ms/sample - loss: 0.0600 - mean_squared_error: 0.0066\n",
      "Epoch 60/100\n",
      "720/720 [==============================] - 3s 5ms/sample - loss: 0.0514 - mean_squared_error: 0.0053\n",
      "Epoch 61/100\n",
      "720/720 [==============================] - 3s 5ms/sample - loss: 0.0534 - mean_squared_error: 0.0056\n",
      "Epoch 62/100\n",
      "720/720 [==============================] - 3s 4ms/sample - loss: 0.0536 - mean_squared_error: 0.0055\n",
      "Epoch 63/100\n",
      "720/720 [==============================] - 3s 4ms/sample - loss: 0.0537 - mean_squared_error: 0.0057\n",
      "Epoch 64/100\n",
      "720/720 [==============================] - 3s 5ms/sample - loss: 0.0507 - mean_squared_error: 0.0051\n",
      "Epoch 65/100\n",
      "720/720 [==============================] - 3s 5ms/sample - loss: 0.0555 - mean_squared_error: 0.0056\n",
      "Epoch 66/100\n",
      "720/720 [==============================] - 3s 4ms/sample - loss: 0.0497 - mean_squared_error: 0.0049\n",
      "Epoch 67/100\n",
      "720/720 [==============================] - 3s 4ms/sample - loss: 0.0522 - mean_squared_error: 0.0053\n",
      "Epoch 68/100\n",
      "720/720 [==============================] - 3s 5ms/sample - loss: 0.0474 - mean_squared_error: 0.0046\n",
      "Epoch 69/100\n",
      "720/720 [==============================] - 3s 4ms/sample - loss: 0.0543 - mean_squared_error: 0.0057\n",
      "Epoch 70/100\n",
      "720/720 [==============================] - 3s 4ms/sample - loss: 0.0500 - mean_squared_error: 0.0048\n",
      "Epoch 71/100\n",
      "720/720 [==============================] - 3s 5ms/sample - loss: 0.0506 - mean_squared_error: 0.0051\n",
      "Epoch 72/100\n",
      "720/720 [==============================] - 3s 5ms/sample - loss: 0.0497 - mean_squared_error: 0.0049\n",
      "Epoch 73/100\n",
      "720/720 [==============================] - 4s 5ms/sample - loss: 0.0529 - mean_squared_error: 0.0055\n",
      "Epoch 74/100\n",
      "720/720 [==============================] - 3s 4ms/sample - loss: 0.0503 - mean_squared_error: 0.00512s - loss: 0.054\n",
      "Epoch 75/100\n",
      "720/720 [==============================] - 3s 4ms/sample - loss: 0.0482 - mean_squared_error: 0.0047\n",
      "Epoch 76/100\n",
      "720/720 [==============================] - 3s 5ms/sample - loss: 0.0507 - mean_squared_error: 0.0050\n",
      "Epoch 77/100\n",
      "720/720 [==============================] - 3s 5ms/sample - loss: 0.0491 - mean_squared_error: 0.0048\n",
      "Epoch 78/100\n",
      "720/720 [==============================] - 3s 5ms/sample - loss: 0.0499 - mean_squared_error: 0.0050\n",
      "Epoch 79/100\n",
      "720/720 [==============================] - 4s 5ms/sample - loss: 0.0493 - mean_squared_error: 0.0048\n",
      "Epoch 80/100\n",
      "720/720 [==============================] - 3s 5ms/sample - loss: 0.0501 - mean_squared_error: 0.0048\n",
      "Epoch 81/100\n",
      "720/720 [==============================] - 4s 5ms/sample - loss: 0.0484 - mean_squared_error: 0.0048\n",
      "Epoch 82/100\n",
      "720/720 [==============================] - 5s 7ms/sample - loss: 0.0496 - mean_squared_error: 0.0051\n",
      "Epoch 83/100\n",
      "720/720 [==============================] - 4s 5ms/sample - loss: 0.0453 - mean_squared_error: 0.0043\n",
      "Epoch 84/100\n",
      "720/720 [==============================] - 4s 5ms/sample - loss: 0.0484 - mean_squared_error: 0.0048\n",
      "Epoch 85/100\n",
      "720/720 [==============================] - 3s 5ms/sample - loss: 0.0475 - mean_squared_error: 0.0046\n",
      "Epoch 86/100\n",
      "720/720 [==============================] - 4s 6ms/sample - loss: 0.0488 - mean_squared_error: 0.0048\n",
      "Epoch 87/100\n",
      "720/720 [==============================] - 4s 5ms/sample - loss: 0.0476 - mean_squared_error: 0.0047\n",
      "Epoch 88/100\n",
      "720/720 [==============================] - 4s 6ms/sample - loss: 0.0461 - mean_squared_error: 0.0044\n",
      "Epoch 89/100\n",
      "720/720 [==============================] - 4s 6ms/sample - loss: 0.0502 - mean_squared_error: 0.0050\n",
      "Epoch 90/100\n",
      "720/720 [==============================] - 3s 5ms/sample - loss: 0.0461 - mean_squared_error: 0.0045\n",
      "Epoch 91/100\n",
      "720/720 [==============================] - 3s 4ms/sample - loss: 0.0492 - mean_squared_error: 0.0048\n",
      "Epoch 92/100\n",
      "720/720 [==============================] - 3s 4ms/sample - loss: 0.0426 - mean_squared_error: 0.0040\n",
      "Epoch 93/100\n",
      "720/720 [==============================] - 3s 4ms/sample - loss: 0.0506 - mean_squared_error: 0.0051\n",
      "Epoch 94/100\n",
      "720/720 [==============================] - 3s 4ms/sample - loss: 0.0474 - mean_squared_error: 0.0045\n",
      "Epoch 95/100\n",
      "720/720 [==============================] - 3s 4ms/sample - loss: 0.0462 - mean_squared_error: 0.0044\n",
      "Epoch 96/100\n",
      "720/720 [==============================] - 3s 4ms/sample - loss: 0.0465 - mean_squared_error: 0.0045\n",
      "Epoch 97/100\n",
      "720/720 [==============================] - 3s 4ms/sample - loss: 0.0462 - mean_squared_error: 0.0045\n",
      "Epoch 98/100\n",
      "720/720 [==============================] - 3s 4ms/sample - loss: 0.0502 - mean_squared_error: 0.0051\n",
      "Epoch 99/100\n",
      "720/720 [==============================] - 3s 4ms/sample - loss: 0.0460 - mean_squared_error: 0.0044\n",
      "Epoch 100/100\n",
      "720/720 [==============================] - 4s 5ms/sample - loss: 0.0439 - mean_squared_error: 0.0043\n",
      "CPU times: user 25min 21s, sys: 1min 56s, total: 27min 17s\n",
      "Wall time: 6min 36s\n"
     ]
    }
   ],
   "source": [
    "%%time\n",
    "model = LSTM_NN(units=[80,80,80],drop=[0.1,0.1,0.2],epochs=100,\n",
    "                    batch_size=40,x_train=features_set,y_train=labels).get_model()"
   ]
  },
  {
   "cell_type": "code",
   "execution_count": 149,
   "metadata": {
    "scrolled": true
   },
   "outputs": [
    {
     "data": {
      "text/plain": [
       "(80, 1)"
      ]
     },
     "execution_count": 149,
     "metadata": {},
     "output_type": "execute_result"
    }
   ],
   "source": [
    "test.shape"
   ]
  },
  {
   "cell_type": "code",
   "execution_count": 150,
   "metadata": {},
   "outputs": [],
   "source": [
    "#We need it later as test inputs (not only the values but the series itself)\n",
    "total = time_series['taxi_count'].iloc[6:886]"
   ]
  },
  {
   "cell_type": "code",
   "execution_count": 151,
   "metadata": {},
   "outputs": [
    {
     "data": {
      "text/plain": [
       "(880,)"
      ]
     },
     "execution_count": 151,
     "metadata": {},
     "output_type": "execute_result"
    }
   ],
   "source": [
    "total.shape"
   ]
  },
  {
   "cell_type": "code",
   "execution_count": 152,
   "metadata": {},
   "outputs": [],
   "source": [
    "test_inputs = total[len(total)-len(test)-old_record_number:].values"
   ]
  },
  {
   "cell_type": "code",
   "execution_count": 153,
   "metadata": {},
   "outputs": [],
   "source": [
    "test_inputs = test_inputs.reshape(-1,1)"
   ]
  },
  {
   "cell_type": "code",
   "execution_count": 154,
   "metadata": {},
   "outputs": [],
   "source": [
    "test_inputs = scaler.transform(test_inputs)"
   ]
  },
  {
   "cell_type": "code",
   "execution_count": 155,
   "metadata": {},
   "outputs": [],
   "source": [
    "test_features = []  \n",
    "for i in range(old_record_number, len(test_inputs)):  \n",
    "    test_features.append(test_inputs[i-old_record_number:i, 0])"
   ]
  },
  {
   "cell_type": "code",
   "execution_count": 156,
   "metadata": {},
   "outputs": [],
   "source": [
    "test_features = np.array(test_features)"
   ]
  },
  {
   "cell_type": "code",
   "execution_count": 157,
   "metadata": {},
   "outputs": [],
   "source": [
    "test_features = np.reshape(test_features, \n",
    "                           (test_features.shape[0], \n",
    "                            test_features.shape[1], \n",
    "                            1))  "
   ]
  },
  {
   "cell_type": "code",
   "execution_count": 158,
   "metadata": {},
   "outputs": [
    {
     "data": {
      "text/plain": [
       "(80, 80, 1)"
      ]
     },
     "execution_count": 158,
     "metadata": {},
     "output_type": "execute_result"
    }
   ],
   "source": [
    "test_features.shape"
   ]
  },
  {
   "cell_type": "code",
   "execution_count": 159,
   "metadata": {},
   "outputs": [],
   "source": [
    "predictions = model.predict(test_features)"
   ]
  },
  {
   "cell_type": "code",
   "execution_count": 160,
   "metadata": {},
   "outputs": [],
   "source": [
    "predictions = scaler.inverse_transform(predictions)"
   ]
  },
  {
   "cell_type": "code",
   "execution_count": 161,
   "metadata": {},
   "outputs": [
    {
     "data": {
      "image/png": "[encoded data removed]",
      "text/plain": [
       "<Figure size 720x432 with 1 Axes>"
      ]
     },
     "metadata": {
      "needs_background": "light"
     },
     "output_type": "display_data"
    }
   ],
   "source": [
    "plt.figure(figsize=(10,6))  \n",
    "plt.plot(test[0:79], color='blue', label='Actual')  \n",
    "plt.plot(predictions[0:79] , color='red', label='Predicted')  \n",
    "plt.title('Number no Taxi Prediction')  \n",
    "plt.xlabel('Date')  \n",
    "plt.ylabel('Number of Taxis')  \n",
    "plt.legend()  \n",
    "plt.show()  "
   ]
  },
  {
   "cell_type": "code",
   "execution_count": 162,
   "metadata": {},
   "outputs": [
    {
     "data": {
      "text/plain": [
       "0.03408243676358641"
      ]
     },
     "execution_count": 162,
     "metadata": {},
     "output_type": "execute_result"
    }
   ],
   "source": [
    "np.mean(np.abs((predictions[0:test.shape[0]-1]-test[0:test.shape[0]-1])/test[0:test.shape[0]-1]))"
   ]
  },
  {
   "cell_type": "code",
   "execution_count": 163,
   "metadata": {},
   "outputs": [
    {
     "data": {
      "text/plain": [
       "0.9770788980106766"
      ]
     },
     "execution_count": 163,
     "metadata": {},
     "output_type": "execute_result"
    }
   ],
   "source": [
    "from sklearn.metrics import r2_score\n",
    "r2_score(test[0:79],predictions[0:79])"
   ]
  },
  {
   "cell_type": "code",
   "execution_count": 169,
   "metadata": {},
   "outputs": [],
   "source": [
    "over = model.predict(features_set)\n",
    "over = scaler.inverse_transform(over)"
   ]
  },
  {
   "cell_type": "code",
   "execution_count": 170,
   "metadata": {},
   "outputs": [],
   "source": [
    "train_ = scaler.inverse_transform(labels.reshape(-1,1))"
   ]
  },
  {
   "cell_type": "code",
   "execution_count": 171,
   "metadata": {},
   "outputs": [
    {
     "data": {
      "image/png": "[encoded data removed]",
      "text/plain": [
       "<Figure size 720x432 with 1 Axes>"
      ]
     },
     "metadata": {
      "needs_background": "light"
     },
     "output_type": "display_data"
    }
   ],
   "source": [
    "plt.figure(figsize=(10,6))  \n",
    "plt.plot(train[80:], color='blue', label='Actual')  \n",
    "plt.plot(over , color='red', label='Predicted')  \n",
    "plt.title('Number no Taxi Prediction')  \n",
    "plt.xlabel('Date')  \n",
    "plt.ylabel('Number of Taxis')  \n",
    "plt.legend()  \n",
    "plt.show()  "
   ]
  },
  {
   "cell_type": "code",
   "execution_count": 172,
   "metadata": {},
   "outputs": [
    {
     "data": {
      "text/plain": [
       "0.09876641866105113"
      ]
     },
     "execution_count": 172,
     "metadata": {},
     "output_type": "execute_result"
    }
   ],
   "source": [
    "np.mean(np.abs((train[80:]-over)/train[80:]))"
   ]
  },
  {
   "cell_type": "code",
   "execution_count": 173,
   "metadata": {},
   "outputs": [
    {
     "data": {
      "text/plain": [
       "0.9116816496674202"
      ]
     },
     "execution_count": 173,
     "metadata": {},
     "output_type": "execute_result"
    }
   ],
   "source": [
    "r2_score(train[80:],over)"
   ]
  },
  {
   "cell_type": "code",
   "execution_count": null,
   "metadata": {},
   "outputs": [],
   "source": []
  }
 ],
 "metadata": {
  "kernelspec": {
   "display_name": "Python 3",
   "language": "python",
   "name": "python3"
  },
  "language_info": {
   "codemirror_mode": {
    "name": "ipython",
    "version": 3
   },
   "file_extension": ".py",
   "mimetype": "text/x-python",
   "name": "python",
   "nbconvert_exporter": "python",
   "pygments_lexer": "ipython3",
   "version": "3.5.3"
  }
 },
 "nbformat": 4,
 "nbformat_minor": 2
}
