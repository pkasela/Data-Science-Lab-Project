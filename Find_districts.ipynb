{
 "cells": [
  {
   "cell_type": "code",
   "execution_count": 1,
   "metadata": {},
   "outputs": [],
   "source": [
    "#import pandas as pd\n",
    "import re\n",
    "import ipdb\n",
    "import numpy as np"
   ]
  },
  {
   "cell_type": "code",
   "execution_count": 2,
   "metadata": {},
   "outputs": [],
   "source": [
    "#!cat taxi_log_2008_by_id/*.txt > total.txt"
   ]
  },
  {
   "cell_type": "code",
   "execution_count": 3,
   "metadata": {},
   "outputs": [],
   "source": [
    "def distance(a,b):\n",
    "    return(np.sum((a-b)**2))"
   ]
  },
  {
   "cell_type": "code",
   "execution_count": 4,
   "metadata": {},
   "outputs": [],
   "source": [
    "districts = {\"Dongcheng\":np.array([39.935539,116.405640]),\n",
    "             \"Xicheng\": np.array([39.813818,116.363625]), \n",
    "             \"Chongwen\": np.array([39.896949, 116.414961]), \n",
    "             \"Xuanwu\": np.array([39.89426, 116.382425]), \n",
    "             \"Chaoyang\": np.array([39.922478,116.443710]),\n",
    "             \"Fengtai\": np.array([39.858425,116.287148]), \n",
    "             \"Shijingshan\":np.array([39.919441,116.168488]),\n",
    "             \"Haidian\": np.array([39.992271, 116.277328]), \n",
    "             \"Mentougou\": np.array([39.938998,116.094757]), \n",
    "             \"Fangshan\": np.array([39.698,115.993]), \n",
    "             \"Tongzhou\": np.array([39.902392,116.651314]), \n",
    "             \"Shunyi\":np.array([40.127577,116.655291]), \n",
    "             \"Changping\": np.array([40.21612,116.23471]),\n",
    "             \"Daxing\": np.array([39.74025,116.32693]), \n",
    "             \"Pinggu\": np.array([40.142351,117.100989]), \n",
    "             \"Huairou\":np.array([40.31333, 116.62888]), \n",
    "             \"Miyun\":np.array([40.376299, 116.842993]), \n",
    "             \"Yanqing\":np.array([40.526731,116.189010])}"
   ]
  },
  {
   "cell_type": "code",
   "execution_count": 5,
   "metadata": {},
   "outputs": [],
   "source": [
    "def best_district(coordinate):\n",
    "    best = np.infty\n",
    "    for district, coord in districts.items():\n",
    "        dist_tmp = distance(coord,\n",
    "                            coordinate)\n",
    "        if dist_tmp < best:\n",
    "            best      = dist_tmp\n",
    "            distretto = district\n",
    "    return distretto"
   ]
  },
  {
   "cell_type": "code",
   "execution_count": 6,
   "metadata": {},
   "outputs": [],
   "source": [
    "fw = open('total_district.txt', 'w')"
   ]
  },
  {
   "cell_type": "code",
   "execution_count": 7,
   "metadata": {},
   "outputs": [
    {
     "name": "stdout",
     "output_type": "stream",
     "text": [
      "CPU times: user 29min 54s, sys: 3.28 s, total: 29min 58s\n",
      "Wall time: 29min 58s\n"
     ]
    }
   ],
   "source": [
    "%%time\n",
    "with open(\"total.txt\") as f:\n",
    "    for line in f:\n",
    "        line        = line.replace('\\n','')\n",
    "        obj         = line.split(',')\n",
    "        coordinates = np.array([float(obj[3]),float(obj[2])])\n",
    "        location    = best_district(coordinates)\n",
    "        line        = line + \",\" +location\n",
    "        fw.write(line+'\\n')\n",
    "fw.close()"
   ]
  }
 ],
 "metadata": {
  "kernelspec": {
   "display_name": "Python 3",
   "language": "python",
   "name": "python3"
  },
  "language_info": {
   "codemirror_mode": {
    "name": "ipython",
    "version": 3
   },
   "file_extension": ".py",
   "mimetype": "text/x-python",
   "name": "python",
   "nbconvert_exporter": "python",
   "pygments_lexer": "ipython3",
   "version": "3.7.3"
  }
 },
 "nbformat": 4,
 "nbformat_minor": 2
}
