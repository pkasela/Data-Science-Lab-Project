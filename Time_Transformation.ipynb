{
 "cells": [
  {
   "cell_type": "code",
   "execution_count": 1,
   "metadata": {},
   "outputs": [],
   "source": [
    "import pandas as pd\n",
    "import numpy as np"
   ]
  },
  {
   "cell_type": "code",
   "execution_count": 2,
   "metadata": {},
   "outputs": [],
   "source": [
    "from sklearn.preprocessing import LabelEncoder\n",
    "from sklearn.preprocessing import OneHotEncoder"
   ]
  },
  {
   "cell_type": "code",
   "execution_count": 3,
   "metadata": {},
   "outputs": [],
   "source": [
    "df = pd.read_csv('total_district.txt',\n",
    "                 names=['taxi_id','date_time','long','lat','district'])"
   ]
  },
  {
   "cell_type": "code",
   "execution_count": null,
   "metadata": {},
   "outputs": [],
   "source": [
    "df.date_time = pd.to_datetime(df.date_time,format = '%Y-%m-%d %X')"
   ]
  },
  {
   "cell_type": "code",
   "execution_count": 18,
   "metadata": {},
   "outputs": [
    {
     "data": {
      "text/plain": [
       "0   2008-02-02 15:36:08\n",
       "1   2008-02-02 15:46:08\n",
       "2   2008-02-02 15:46:08\n",
       "3   2008-02-02 15:56:08\n",
       "4   2008-02-02 16:06:08\n",
       "Name: date_time, dtype: datetime64[ns]"
      ]
     },
     "execution_count": 18,
     "metadata": {},
     "output_type": "execute_result"
    }
   ],
   "source": [
    "df.date_time.head()"
   ]
  },
  {
   "cell_type": "code",
   "execution_count": null,
   "metadata": {},
   "outputs": [],
   "source": [
    "def day_period(time):\n",
    "    hour = time.hour\n",
    "    if(0<=hour<=5 or hour>=23):\n",
    "        return \"Night\"\n",
    "    if(6<hour<=12):\n",
    "        return \"Morning\"\n",
    "    if(12<hour<=18):\n",
    "        return \"Afternoon\"\n",
    "    if(18<hour<23):\n",
    "        return \"Evening\"\n",
    "    \n",
    "def is_time_to_eat(time):\n",
    "    hour = time.hour\n",
    "    if(6<=hour<=9 or 12<=hour<=14 or 18<=hour<=21):\n",
    "        return 1 #yes\n",
    "    else:\n",
    "        return 0 #no"
   ]
  },
  {
   "cell_type": "code",
   "execution_count": 53,
   "metadata": {},
   "outputs": [],
   "source": [
    "df['period']=df.date_time.apply(day_period)"
   ]
  },
  {
   "cell_type": "code",
   "execution_count": 57,
   "metadata": {},
   "outputs": [],
   "source": [
    "df['time_to_eat'] = df.date_time.apply(is_time_to_eat)"
   ]
  },
  {
   "cell_type": "code",
   "execution_count": 58,
   "metadata": {
    "scrolled": true
   },
   "outputs": [
    {
     "data": {
      "text/html": [
       "<div>\n",
       "<style scoped>\n",
       "    .dataframe tbody tr th:only-of-type {\n",
       "        vertical-align: middle;\n",
       "    }\n",
       "\n",
       "    .dataframe tbody tr th {\n",
       "        vertical-align: top;\n",
       "    }\n",
       "\n",
       "    .dataframe thead th {\n",
       "        text-align: right;\n",
       "    }\n",
       "</style>\n",
       "<table border=\"1\" class=\"dataframe\">\n",
       "  <thead>\n",
       "    <tr style=\"text-align: right;\">\n",
       "      <th></th>\n",
       "      <th>taxi_id</th>\n",
       "      <th>date_time</th>\n",
       "      <th>lat</th>\n",
       "      <th>long</th>\n",
       "      <th>district</th>\n",
       "      <th>period</th>\n",
       "      <th>time_to_eat</th>\n",
       "    </tr>\n",
       "  </thead>\n",
       "  <tbody>\n",
       "    <tr>\n",
       "      <th>994</th>\n",
       "      <td>10</td>\n",
       "      <td>2008-02-02 19:39:33</td>\n",
       "      <td>116.38792</td>\n",
       "      <td>39.88493</td>\n",
       "      <td>Xuanwu</td>\n",
       "      <td>evening</td>\n",
       "      <td>1</td>\n",
       "    </tr>\n",
       "    <tr>\n",
       "      <th>995</th>\n",
       "      <td>10</td>\n",
       "      <td>2008-02-02 19:39:37</td>\n",
       "      <td>116.38832</td>\n",
       "      <td>39.88493</td>\n",
       "      <td>Xuanwu</td>\n",
       "      <td>evening</td>\n",
       "      <td>1</td>\n",
       "    </tr>\n",
       "    <tr>\n",
       "      <th>996</th>\n",
       "      <td>10</td>\n",
       "      <td>2008-02-02 19:40:11</td>\n",
       "      <td>116.39100</td>\n",
       "      <td>39.88507</td>\n",
       "      <td>Xuanwu</td>\n",
       "      <td>evening</td>\n",
       "      <td>1</td>\n",
       "    </tr>\n",
       "    <tr>\n",
       "      <th>997</th>\n",
       "      <td>10</td>\n",
       "      <td>2008-02-02 19:40:57</td>\n",
       "      <td>116.39107</td>\n",
       "      <td>39.88510</td>\n",
       "      <td>Xuanwu</td>\n",
       "      <td>evening</td>\n",
       "      <td>1</td>\n",
       "    </tr>\n",
       "    <tr>\n",
       "      <th>998</th>\n",
       "      <td>10</td>\n",
       "      <td>2008-02-02 19:41:17</td>\n",
       "      <td>116.39213</td>\n",
       "      <td>39.88507</td>\n",
       "      <td>Xuanwu</td>\n",
       "      <td>evening</td>\n",
       "      <td>1</td>\n",
       "    </tr>\n",
       "    <tr>\n",
       "      <th>999</th>\n",
       "      <td>10</td>\n",
       "      <td>2008-02-02 19:41:38</td>\n",
       "      <td>116.39250</td>\n",
       "      <td>39.88507</td>\n",
       "      <td>Xuanwu</td>\n",
       "      <td>evening</td>\n",
       "      <td>1</td>\n",
       "    </tr>\n",
       "  </tbody>\n",
       "</table>\n",
       "</div>"
      ],
      "text/plain": [
       "     taxi_id           date_time        lat      long district   period  \\\n",
       "994       10 2008-02-02 19:39:33  116.38792  39.88493   Xuanwu  evening   \n",
       "995       10 2008-02-02 19:39:37  116.38832  39.88493   Xuanwu  evening   \n",
       "996       10 2008-02-02 19:40:11  116.39100  39.88507   Xuanwu  evening   \n",
       "997       10 2008-02-02 19:40:57  116.39107  39.88510   Xuanwu  evening   \n",
       "998       10 2008-02-02 19:41:17  116.39213  39.88507   Xuanwu  evening   \n",
       "999       10 2008-02-02 19:41:38  116.39250  39.88507   Xuanwu  evening   \n",
       "\n",
       "     time_to_eat  \n",
       "994            1  \n",
       "995            1  \n",
       "996            1  \n",
       "997            1  \n",
       "998            1  \n",
       "999            1  "
      ]
     },
     "execution_count": 58,
     "metadata": {},
     "output_type": "execute_result"
    }
   ],
   "source": [
    "df.head(1000).tail(6)"
   ]
  },
  {
   "cell_type": "code",
   "execution_count": 59,
   "metadata": {},
   "outputs": [],
   "source": [
    "X = df.values"
   ]
  },
  {
   "cell_type": "code",
   "execution_count": 70,
   "metadata": {},
   "outputs": [],
   "source": [
    "le = LabelEncoder()\n",
    "enc = OneHotEncoder(categorical_features = [5])"
   ]
  },
  {
   "cell_type": "code",
   "execution_count": 71,
   "metadata": {},
   "outputs": [],
   "source": [
    "X[:,5]=X[:,5].astype(str)"
   ]
  },
  {
   "cell_type": "code",
   "execution_count": 72,
   "metadata": {},
   "outputs": [],
   "source": [
    "X[:,5] = le.fit_transform(X[:,5])"
   ]
  },
  {
   "cell_type": "code",
   "execution_count": 78,
   "metadata": {},
   "outputs": [
    {
     "data": {
      "text/plain": [
       "2    5958311\n",
       "4    4089817\n",
       "3    3349004\n",
       "0    3155318\n",
       "1    1110534\n",
       "dtype: int64"
      ]
     },
     "execution_count": 78,
     "metadata": {},
     "output_type": "execute_result"
    }
   ],
   "source": [
    "pd.Series(X[:,5]).value_counts() #0->"
   ]
  },
  {
   "cell_type": "code",
   "execution_count": null,
   "metadata": {},
   "outputs": [],
   "source": [
    "X_sparse = enc.fit_transform(X)\n",
    "X = X_sparse.toarray()"
   ]
  },
  {
   "cell_type": "code",
   "execution_count": null,
   "metadata": {},
   "outputs": [],
   "source": [
    "df = pd.DataFrame(X)"
   ]
  },
  {
   "cell_type": "code",
   "execution_count": null,
   "metadata": {},
   "outputs": [],
   "source": [
    "df.head()"
   ]
  }
 ],
 "metadata": {
  "kernelspec": {
   "display_name": "Python 3",
   "language": "python",
   "name": "python3"
  },
  "language_info": {
   "codemirror_mode": {
    "name": "ipython",
    "version": 3
   },
   "file_extension": ".py",
   "mimetype": "text/x-python",
   "name": "python",
   "nbconvert_exporter": "python",
   "pygments_lexer": "ipython3",
   "version": "3.7.3"
  }
 },
 "nbformat": 4,
 "nbformat_minor": 2
}
