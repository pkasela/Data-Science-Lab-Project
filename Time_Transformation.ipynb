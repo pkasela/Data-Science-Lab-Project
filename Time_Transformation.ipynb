{
 "cells": [
  {
   "cell_type": "code",
   "execution_count": 1,
   "metadata": {},
   "outputs": [],
   "source": [
    "import pandas as pd\n",
    "import numpy as np"
   ]
  },
  {
   "cell_type": "code",
   "execution_count": 2,
   "metadata": {},
   "outputs": [],
   "source": [
    "df = pd.read_csv('total_district.txt',\n",
    "                 names=['taxi_id','date_time','long','lat','district'])"
   ]
  },
  {
   "cell_type": "code",
   "execution_count": 3,
   "metadata": {},
   "outputs": [],
   "source": [
    "df.date_time = pd.to_datetime(df.date_time,format = '%Y-%m-%d %X')"
   ]
  },
  {
   "cell_type": "code",
   "execution_count": 4,
   "metadata": {},
   "outputs": [
    {
     "data": {
      "text/plain": [
       "0   2008-02-02 15:36:08\n",
       "1   2008-02-02 15:46:08\n",
       "2   2008-02-02 15:46:08\n",
       "3   2008-02-02 15:56:08\n",
       "4   2008-02-02 16:06:08\n",
       "Name: date_time, dtype: datetime64[ns]"
      ]
     },
     "execution_count": 4,
     "metadata": {},
     "output_type": "execute_result"
    }
   ],
   "source": [
    "df.date_time.head()"
   ]
  },
  {
   "cell_type": "code",
   "execution_count": 5,
   "metadata": {},
   "outputs": [],
   "source": [
    "def day_period(time):\n",
    "    hour = time.hour\n",
    "    if(0<=hour<=5 or hour>=23):\n",
    "        return \"Night\"\n",
    "    if(6<=hour<=12):\n",
    "        return \"Morning\"\n",
    "    if(12<hour<=18):\n",
    "        return \"Afternoon\"\n",
    "    if(18<hour<23):\n",
    "        return \"Evening\"\n",
    "    \n",
    "def is_time_to_eat(time):\n",
    "    hour = time.hour\n",
    "    if(6<=hour<=9 or 12<=hour<=14 or 18<=hour<=21):\n",
    "        return 1 #yes\n",
    "    else:\n",
    "        return 0 #no"
   ]
  },
  {
   "cell_type": "code",
   "execution_count": 6,
   "metadata": {},
   "outputs": [],
   "source": [
    "df['period']=df.date_time.apply(day_period)"
   ]
  },
  {
   "cell_type": "code",
   "execution_count": 7,
   "metadata": {},
   "outputs": [],
   "source": [
    "df['time_to_eat'] = df.date_time.apply(is_time_to_eat)"
   ]
  },
  {
   "cell_type": "code",
   "execution_count": 8,
   "metadata": {
    "scrolled": true
   },
   "outputs": [
    {
     "data": {
      "text/html": [
       "<div>\n",
       "<style scoped>\n",
       "    .dataframe tbody tr th:only-of-type {\n",
       "        vertical-align: middle;\n",
       "    }\n",
       "\n",
       "    .dataframe tbody tr th {\n",
       "        vertical-align: top;\n",
       "    }\n",
       "\n",
       "    .dataframe thead th {\n",
       "        text-align: right;\n",
       "    }\n",
       "</style>\n",
       "<table border=\"1\" class=\"dataframe\">\n",
       "  <thead>\n",
       "    <tr style=\"text-align: right;\">\n",
       "      <th></th>\n",
       "      <th>taxi_id</th>\n",
       "      <th>date_time</th>\n",
       "      <th>long</th>\n",
       "      <th>lat</th>\n",
       "      <th>district</th>\n",
       "      <th>period</th>\n",
       "      <th>time_to_eat</th>\n",
       "    </tr>\n",
       "  </thead>\n",
       "  <tbody>\n",
       "    <tr>\n",
       "      <th>0</th>\n",
       "      <td>1</td>\n",
       "      <td>2008-02-02 15:36:08</td>\n",
       "      <td>116.51172</td>\n",
       "      <td>39.92123</td>\n",
       "      <td>Chaoyang</td>\n",
       "      <td>Afternoon</td>\n",
       "      <td>0</td>\n",
       "    </tr>\n",
       "    <tr>\n",
       "      <th>1</th>\n",
       "      <td>1</td>\n",
       "      <td>2008-02-02 15:46:08</td>\n",
       "      <td>116.51135</td>\n",
       "      <td>39.93883</td>\n",
       "      <td>Chaoyang</td>\n",
       "      <td>Afternoon</td>\n",
       "      <td>0</td>\n",
       "    </tr>\n",
       "    <tr>\n",
       "      <th>2</th>\n",
       "      <td>1</td>\n",
       "      <td>2008-02-02 15:46:08</td>\n",
       "      <td>116.51135</td>\n",
       "      <td>39.93883</td>\n",
       "      <td>Chaoyang</td>\n",
       "      <td>Afternoon</td>\n",
       "      <td>0</td>\n",
       "    </tr>\n",
       "    <tr>\n",
       "      <th>3</th>\n",
       "      <td>1</td>\n",
       "      <td>2008-02-02 15:56:08</td>\n",
       "      <td>116.51627</td>\n",
       "      <td>39.91034</td>\n",
       "      <td>Chaoyang</td>\n",
       "      <td>Afternoon</td>\n",
       "      <td>0</td>\n",
       "    </tr>\n",
       "    <tr>\n",
       "      <th>4</th>\n",
       "      <td>1</td>\n",
       "      <td>2008-02-02 16:06:08</td>\n",
       "      <td>116.47186</td>\n",
       "      <td>39.91248</td>\n",
       "      <td>Chaoyang</td>\n",
       "      <td>Afternoon</td>\n",
       "      <td>0</td>\n",
       "    </tr>\n",
       "  </tbody>\n",
       "</table>\n",
       "</div>"
      ],
      "text/plain": [
       "   taxi_id           date_time       long       lat  district     period  \\\n",
       "0        1 2008-02-02 15:36:08  116.51172  39.92123  Chaoyang  Afternoon   \n",
       "1        1 2008-02-02 15:46:08  116.51135  39.93883  Chaoyang  Afternoon   \n",
       "2        1 2008-02-02 15:46:08  116.51135  39.93883  Chaoyang  Afternoon   \n",
       "3        1 2008-02-02 15:56:08  116.51627  39.91034  Chaoyang  Afternoon   \n",
       "4        1 2008-02-02 16:06:08  116.47186  39.91248  Chaoyang  Afternoon   \n",
       "\n",
       "   time_to_eat  \n",
       "0            0  \n",
       "1            0  \n",
       "2            0  \n",
       "3            0  \n",
       "4            0  "
      ]
     },
     "execution_count": 8,
     "metadata": {},
     "output_type": "execute_result"
    }
   ],
   "source": [
    "df.head()"
   ]
  },
  {
   "cell_type": "code",
   "execution_count": 9,
   "metadata": {},
   "outputs": [
    {
     "name": "stdout",
     "output_type": "stream",
     "text": [
      "CPU times: user 4.14 s, sys: 652 ms, total: 4.79 s\n",
      "Wall time: 4.79 s\n"
     ]
    }
   ],
   "source": [
    "%%time\n",
    "df_one_hot = pd.get_dummies(df,columns=['district','period'])"
   ]
  },
  {
   "cell_type": "code",
   "execution_count": 11,
   "metadata": {},
   "outputs": [
    {
     "data": {
      "text/html": [
       "<div>\n",
       "<style scoped>\n",
       "    .dataframe tbody tr th:only-of-type {\n",
       "        vertical-align: middle;\n",
       "    }\n",
       "\n",
       "    .dataframe tbody tr th {\n",
       "        vertical-align: top;\n",
       "    }\n",
       "\n",
       "    .dataframe thead th {\n",
       "        text-align: right;\n",
       "    }\n",
       "</style>\n",
       "<table border=\"1\" class=\"dataframe\">\n",
       "  <thead>\n",
       "    <tr style=\"text-align: right;\">\n",
       "      <th></th>\n",
       "      <th>taxi_id</th>\n",
       "      <th>date_time</th>\n",
       "      <th>long</th>\n",
       "      <th>lat</th>\n",
       "      <th>time_to_eat</th>\n",
       "      <th>district_Changping</th>\n",
       "      <th>district_Chaoyang</th>\n",
       "      <th>district_Chongwen</th>\n",
       "      <th>district_Daxing</th>\n",
       "      <th>district_Dongcheng</th>\n",
       "      <th>...</th>\n",
       "      <th>district_Shijingshan</th>\n",
       "      <th>district_Shunyi</th>\n",
       "      <th>district_Tongzhou</th>\n",
       "      <th>district_Xicheng</th>\n",
       "      <th>district_Xuanwu</th>\n",
       "      <th>district_Yanqing</th>\n",
       "      <th>period_Afternoon</th>\n",
       "      <th>period_Evening</th>\n",
       "      <th>period_Morning</th>\n",
       "      <th>period_Night</th>\n",
       "    </tr>\n",
       "  </thead>\n",
       "  <tbody>\n",
       "    <tr>\n",
       "      <th>0</th>\n",
       "      <td>1</td>\n",
       "      <td>2008-02-02 15:36:08</td>\n",
       "      <td>116.51172</td>\n",
       "      <td>39.92123</td>\n",
       "      <td>0</td>\n",
       "      <td>0</td>\n",
       "      <td>1</td>\n",
       "      <td>0</td>\n",
       "      <td>0</td>\n",
       "      <td>0</td>\n",
       "      <td>...</td>\n",
       "      <td>0</td>\n",
       "      <td>0</td>\n",
       "      <td>0</td>\n",
       "      <td>0</td>\n",
       "      <td>0</td>\n",
       "      <td>0</td>\n",
       "      <td>1</td>\n",
       "      <td>0</td>\n",
       "      <td>0</td>\n",
       "      <td>0</td>\n",
       "    </tr>\n",
       "    <tr>\n",
       "      <th>1</th>\n",
       "      <td>1</td>\n",
       "      <td>2008-02-02 15:46:08</td>\n",
       "      <td>116.51135</td>\n",
       "      <td>39.93883</td>\n",
       "      <td>0</td>\n",
       "      <td>0</td>\n",
       "      <td>1</td>\n",
       "      <td>0</td>\n",
       "      <td>0</td>\n",
       "      <td>0</td>\n",
       "      <td>...</td>\n",
       "      <td>0</td>\n",
       "      <td>0</td>\n",
       "      <td>0</td>\n",
       "      <td>0</td>\n",
       "      <td>0</td>\n",
       "      <td>0</td>\n",
       "      <td>1</td>\n",
       "      <td>0</td>\n",
       "      <td>0</td>\n",
       "      <td>0</td>\n",
       "    </tr>\n",
       "    <tr>\n",
       "      <th>2</th>\n",
       "      <td>1</td>\n",
       "      <td>2008-02-02 15:46:08</td>\n",
       "      <td>116.51135</td>\n",
       "      <td>39.93883</td>\n",
       "      <td>0</td>\n",
       "      <td>0</td>\n",
       "      <td>1</td>\n",
       "      <td>0</td>\n",
       "      <td>0</td>\n",
       "      <td>0</td>\n",
       "      <td>...</td>\n",
       "      <td>0</td>\n",
       "      <td>0</td>\n",
       "      <td>0</td>\n",
       "      <td>0</td>\n",
       "      <td>0</td>\n",
       "      <td>0</td>\n",
       "      <td>1</td>\n",
       "      <td>0</td>\n",
       "      <td>0</td>\n",
       "      <td>0</td>\n",
       "    </tr>\n",
       "    <tr>\n",
       "      <th>3</th>\n",
       "      <td>1</td>\n",
       "      <td>2008-02-02 15:56:08</td>\n",
       "      <td>116.51627</td>\n",
       "      <td>39.91034</td>\n",
       "      <td>0</td>\n",
       "      <td>0</td>\n",
       "      <td>1</td>\n",
       "      <td>0</td>\n",
       "      <td>0</td>\n",
       "      <td>0</td>\n",
       "      <td>...</td>\n",
       "      <td>0</td>\n",
       "      <td>0</td>\n",
       "      <td>0</td>\n",
       "      <td>0</td>\n",
       "      <td>0</td>\n",
       "      <td>0</td>\n",
       "      <td>1</td>\n",
       "      <td>0</td>\n",
       "      <td>0</td>\n",
       "      <td>0</td>\n",
       "    </tr>\n",
       "    <tr>\n",
       "      <th>4</th>\n",
       "      <td>1</td>\n",
       "      <td>2008-02-02 16:06:08</td>\n",
       "      <td>116.47186</td>\n",
       "      <td>39.91248</td>\n",
       "      <td>0</td>\n",
       "      <td>0</td>\n",
       "      <td>1</td>\n",
       "      <td>0</td>\n",
       "      <td>0</td>\n",
       "      <td>0</td>\n",
       "      <td>...</td>\n",
       "      <td>0</td>\n",
       "      <td>0</td>\n",
       "      <td>0</td>\n",
       "      <td>0</td>\n",
       "      <td>0</td>\n",
       "      <td>0</td>\n",
       "      <td>1</td>\n",
       "      <td>0</td>\n",
       "      <td>0</td>\n",
       "      <td>0</td>\n",
       "    </tr>\n",
       "  </tbody>\n",
       "</table>\n",
       "<p>5 rows × 27 columns</p>\n",
       "</div>"
      ],
      "text/plain": [
       "   taxi_id           date_time       long       lat  time_to_eat  \\\n",
       "0        1 2008-02-02 15:36:08  116.51172  39.92123            0   \n",
       "1        1 2008-02-02 15:46:08  116.51135  39.93883            0   \n",
       "2        1 2008-02-02 15:46:08  116.51135  39.93883            0   \n",
       "3        1 2008-02-02 15:56:08  116.51627  39.91034            0   \n",
       "4        1 2008-02-02 16:06:08  116.47186  39.91248            0   \n",
       "\n",
       "   district_Changping  district_Chaoyang  district_Chongwen  district_Daxing  \\\n",
       "0                   0                  1                  0                0   \n",
       "1                   0                  1                  0                0   \n",
       "2                   0                  1                  0                0   \n",
       "3                   0                  1                  0                0   \n",
       "4                   0                  1                  0                0   \n",
       "\n",
       "   district_Dongcheng  ...  district_Shijingshan  district_Shunyi  \\\n",
       "0                   0  ...                     0                0   \n",
       "1                   0  ...                     0                0   \n",
       "2                   0  ...                     0                0   \n",
       "3                   0  ...                     0                0   \n",
       "4                   0  ...                     0                0   \n",
       "\n",
       "   district_Tongzhou  district_Xicheng  district_Xuanwu  district_Yanqing  \\\n",
       "0                  0                 0                0                 0   \n",
       "1                  0                 0                0                 0   \n",
       "2                  0                 0                0                 0   \n",
       "3                  0                 0                0                 0   \n",
       "4                  0                 0                0                 0   \n",
       "\n",
       "   period_Afternoon  period_Evening  period_Morning  period_Night  \n",
       "0                 1               0               0             0  \n",
       "1                 1               0               0             0  \n",
       "2                 1               0               0             0  \n",
       "3                 1               0               0             0  \n",
       "4                 1               0               0             0  \n",
       "\n",
       "[5 rows x 27 columns]"
      ]
     },
     "execution_count": 11,
     "metadata": {},
     "output_type": "execute_result"
    }
   ],
   "source": [
    "df_one_hot.head()"
   ]
  },
  {
   "cell_type": "code",
   "execution_count": 12,
   "metadata": {},
   "outputs": [
    {
     "data": {
      "text/plain": [
       "Index(['taxi_id', 'date_time', 'long', 'lat', 'time_to_eat',\n",
       "       'district_Changping', 'district_Chaoyang', 'district_Chongwen',\n",
       "       'district_Daxing', 'district_Dongcheng', 'district_Fangshan',\n",
       "       'district_Fengtai', 'district_Haidian', 'district_Huairou',\n",
       "       'district_Mentougou', 'district_Miyun', 'district_Pinggu',\n",
       "       'district_Shijingshan', 'district_Shunyi', 'district_Tongzhou',\n",
       "       'district_Xicheng', 'district_Xuanwu', 'district_Yanqing',\n",
       "       'period_Afternoon', 'period_Evening', 'period_Morning', 'period_Night'],\n",
       "      dtype='object')"
      ]
     },
     "execution_count": 12,
     "metadata": {},
     "output_type": "execute_result"
    }
   ],
   "source": [
    "df_one_hot.columns"
   ]
  },
  {
   "cell_type": "code",
   "execution_count": 13,
   "metadata": {},
   "outputs": [],
   "source": [
    "df_one_hot.to_csv(\"total_one_hot_encoded.csv\",index=None)"
   ]
  },
  {
   "cell_type": "code",
   "execution_count": 14,
   "metadata": {},
   "outputs": [],
   "source": [
    "df.to_csv(\"total_period_time_eat.csv\",index=None)"
   ]
  }
 ],
 "metadata": {
  "kernelspec": {
   "display_name": "Python 3",
   "language": "python",
   "name": "python3"
  },
  "language_info": {
   "codemirror_mode": {
    "name": "ipython",
    "version": 3
   },
   "file_extension": ".py",
   "mimetype": "text/x-python",
   "name": "python",
   "nbconvert_exporter": "python",
   "pygments_lexer": "ipython3",
   "version": "3.5.3"
  }
 },
 "nbformat": 4,
 "nbformat_minor": 2
}
